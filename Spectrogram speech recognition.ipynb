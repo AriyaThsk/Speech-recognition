{
 "cells": [
  {
   "cell_type": "code",
   "execution_count": 212,
   "metadata": {
    "scrolled": false
   },
   "outputs": [],
   "source": [
    "import os\n",
    "import pathlib\n",
    "\n",
    "import matplotlib.pyplot as plt\n",
    "import numpy as np\n",
    "import seaborn as sns\n",
    "import tensorflow as tf\n",
    "\n",
    "from tensorflow.keras.layers.experimental import preprocessing\n",
    "from tensorflow.keras import layers\n",
    "from tensorflow.keras import models\n",
    "from IPython import display\n",
    "from keras.models import Sequential\n",
    "from keras.layers import Dense, Dropout, Flatten, Conv2D, MaxPooling2D\n",
    "from tensorflow.keras.utils import to_categorical\n",
    "from keras import optimizers"
   ]
  },
  {
   "cell_type": "code",
   "execution_count": 213,
   "metadata": {},
   "outputs": [],
   "source": [
    "data_dir = pathlib.Path(\"D:\\\\speech recog\\\\train set2\")"
   ]
  },
  {
   "cell_type": "code",
   "execution_count": 216,
   "metadata": {},
   "outputs": [
    {
     "name": "stdout",
     "output_type": "stream",
     "text": [
      "Commands: ['คอส' 'คูณ' 'บวก' 'ยกกำลัง' 'ยี่' 'ร้อย' 'ลบ' 'วาย' 'ศูนย์' 'สอง' 'สาม'\n",
      " 'สิบ' 'สี่' 'ส่วน' 'หก' 'หนึ่ง' 'หาร' 'ห้า' 'เก้า' 'เจ็ด' 'เท่ากับ' 'เศษ'\n",
      " 'เอ็กซ์' 'เอ็ด' 'แซด' 'แทน' 'แปด' 'ไซน์']\n"
     ]
    }
   ],
   "source": [
    "commands = np.array(tf.io.gfile.listdir(str(data_dir)))\n",
    "print('Commands:', commands)"
   ]
  },
  {
   "cell_type": "code",
   "execution_count": 217,
   "metadata": {},
   "outputs": [
    {
     "name": "stdout",
     "output_type": "stream",
     "text": [
      "Number of total examples: 4480\n",
      "Number of examples per label: 160\n",
      "Example file tensor: tf.Tensor(b'D:\\\\speech recog\\\\train set2\\\\\\xe0\\xb9\\x80\\xe0\\xb8\\xa8\\xe0\\xb8\\xa9\\\\\\xe0\\xb9\\x80\\xe0\\xb8\\xa8\\xe0\\xb8\\xa9200cut238.wav', shape=(), dtype=string)\n"
     ]
    }
   ],
   "source": [
    "filenames = tf.io.gfile.glob(str(data_dir) + '/*/*')\n",
    "filenames = tf.random.shuffle(filenames)\n",
    "num_samples = len(filenames)\n",
    "print('Number of total examples:', num_samples)\n",
    "print('Number of examples per label:',\n",
    "      len(tf.io.gfile.listdir(str(data_dir/commands[0]))))\n",
    "print('Example file tensor:', filenames[0])"
   ]
  },
  {
   "cell_type": "code",
   "execution_count": 218,
   "metadata": {},
   "outputs": [
    {
     "name": "stdout",
     "output_type": "stream",
     "text": [
      "Training set size 4480\n",
      "Validation set size 560\n",
      "Test set size 840\n"
     ]
    }
   ],
   "source": [
    "testfiles = pathlib.Path(\"D:\\\\speech recog\\\\test set\")\n",
    "testfiles = tf.io.gfile.glob(str(testfiles) + '/*/*')\n",
    "\n",
    "valfiles = pathlib.Path(\"D:\\\\speech recog\\\\validation\")\n",
    "valfiles = tf.io.gfile.glob(str(valfiles) + '/*/*')\n",
    "\n",
    "train_files = filenames\n",
    "val_files = valfiles\n",
    "test_files = testfiles\n",
    "\n",
    "print('Training set size', len(train_files))\n",
    "print('Validation set size', len(val_files))\n",
    "print('Test set size', len(test_files))"
   ]
  },
  {
   "cell_type": "code",
   "execution_count": 219,
   "metadata": {},
   "outputs": [],
   "source": [
    "def decode_audio(audio_binary):\n",
    "    audio, _ = tf.audio.decode_wav(audio_binary)\n",
    "    return tf.squeeze(audio, axis=-1)"
   ]
  },
  {
   "cell_type": "code",
   "execution_count": 220,
   "metadata": {},
   "outputs": [],
   "source": [
    "def get_label(file_path):\n",
    "    parts = tf.strings.split(file_path, os.path.sep)\n",
    "\n",
    "  # Note: You'll use indexing here instead of tuple unpacking to enable this \n",
    "  # to work in a TensorFlow graph.\n",
    "    return parts[-2]"
   ]
  },
  {
   "cell_type": "code",
   "execution_count": 222,
   "metadata": {},
   "outputs": [],
   "source": [
    "def get_waveform_and_label(file_path):\n",
    "    label = get_label(file_path)\n",
    "    audio_binary = tf.io.read_file(file_path)\n",
    "    waveform = decode_audio(audio_binary)\n",
    "    return waveform, label"
   ]
  },
  {
   "cell_type": "code",
   "execution_count": 223,
   "metadata": {},
   "outputs": [],
   "source": [
    "AUTOTUNE = tf.data.AUTOTUNE\n",
    "files_ds = tf.data.Dataset.from_tensor_slices(train_files)\n",
    "waveform_ds = files_ds.map(get_waveform_and_label, num_parallel_calls=AUTOTUNE)"
   ]
  },
  {
   "cell_type": "code",
   "execution_count": 110,
   "metadata": {},
   "outputs": [
    {
     "name": "stdout",
     "output_type": "stream",
     "text": [
      "<ParallelMapDataset shapes: ((None,), ()), types: (tf.float32, tf.string)>\n"
     ]
    }
   ],
   "source": [
    "print(waveform_ds)"
   ]
  },
  {
   "cell_type": "code",
   "execution_count": 111,
   "metadata": {},
   "outputs": [
    {
     "name": "stdout",
     "output_type": "stream",
     "text": [
      "<TensorSliceDataset shapes: (), types: tf.string>\n",
      "-1\n"
     ]
    }
   ],
   "source": [
    "print(files_ds)\n",
    "print(AUTOTUNE)"
   ]
  },
  {
   "cell_type": "code",
   "execution_count": 224,
   "metadata": {},
   "outputs": [],
   "source": [
    "def get_spectrogram(waveform):\n",
    "  # Zero-padding for an audio waveform with less than 16,000 samples.\n",
    "    input_len = 217413\n",
    "    waveform = waveform[:input_len]\n",
    "    zero_padding = tf.zeros([217413] - tf.shape(waveform),dtype=tf.float32)\n",
    "  # Cast the waveform tensors' dtype to float32.\n",
    "    waveform = tf.cast(waveform, dtype=tf.float32)\n",
    "  # Concatenate the waveform with `zero_padding`, which ensures all audio\n",
    "  # clips are of the same length.\n",
    "    equal_length = tf.concat([waveform, zero_padding], 0)\n",
    "  # Convert the waveform to a spectrogram via a STFT.\n",
    "    spectrogram = tf.signal.stft(equal_length, frame_length=255, frame_step=128)\n",
    "  # Obtain the magnitude of the STFT.\n",
    "    spectrogram = tf.abs(spectrogram)\n",
    "  # Add a `channels` dimension, so that the spectrogram can be used\n",
    "  # as image-like input data with convolution layers (which expect\n",
    "  # shape (`batch_size`, `height`, `width`, `channels`).\n",
    "    #spectrogram = spectrogram[..., tf.newaxis]\n",
    "    return spectrogram"
   ]
  },
  {
   "cell_type": "code",
   "execution_count": 12,
   "metadata": {
    "scrolled": true
   },
   "outputs": [
    {
     "name": "stdout",
     "output_type": "stream",
     "text": [
      "Label: เศษ\n",
      "Waveform shape: (20109,)\n",
      "Spectrogram shape: (1697, 129)\n",
      "Audio playback\n"
     ]
    },
    {
     "data": {
      "text/html": [
       "\n",
       "                <audio  controls=\"controls\" >\n",
       "                    <source src=\"data:audio/wav;base64,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\" type=\"audio/wav\" />\n",
       "                    Your browser does not support the audio element.\n",
       "                </audio>\n",
       "              "
      ],
      "text/plain": [
       "<IPython.lib.display.Audio object>"
      ]
     },
     "metadata": {},
     "output_type": "display_data"
    }
   ],
   "source": [
    "#wavshape = []\n",
    "for waveform, label in waveform_ds:\n",
    "    label = label.numpy().decode('utf-8')\n",
    "    spectrogram = get_spectrogram(waveform)\n",
    "    #wavshape = np.append(wavshape,waveform.shape)\n",
    "    #print('Waveform shape:', waveform.shape)\n",
    "#print(wavshape)\n",
    "    \n",
    "\n",
    "print('Label:', label)\n",
    "print('Waveform shape:', waveform.shape)\n",
    "print('Spectrogram shape:', spectrogram.shape)\n",
    "print('Audio playback')\n",
    "display.display(display.Audio(waveform, rate=44100))"
   ]
  },
  {
   "cell_type": "code",
   "execution_count": null,
   "metadata": {},
   "outputs": [],
   "source": [
    "shape=[]\n",
    "for waveform, label in waveform_ds:\n",
    "    shape = np.append(shape,waveform.shape)"
   ]
  },
  {
   "cell_type": "code",
   "execution_count": null,
   "metadata": {},
   "outputs": [],
   "source": [
    "np.max(shape)"
   ]
  },
  {
   "cell_type": "code",
   "execution_count": 225,
   "metadata": {},
   "outputs": [],
   "source": [
    "def get_spectrogram_and_label_id(audio, label):\n",
    "    spectrogram = get_spectrogram(audio)\n",
    "    spectrogram = tf.expand_dims(spectrogram, -1)\n",
    "    label_id = tf.argmax(label == commands)\n",
    "    return spectrogram, label_id"
   ]
  },
  {
   "cell_type": "code",
   "execution_count": null,
   "metadata": {},
   "outputs": [],
   "source": [
    "for waveform, label in waveform_ds.take(10):\n",
    "    label = label.numpy().decode('utf-8')\n",
    "    A = get_spectrogram_and_label_id(waveform, label)\n",
    "    print(A)\n",
    "    print(len(A))"
   ]
  },
  {
   "cell_type": "code",
   "execution_count": 226,
   "metadata": {},
   "outputs": [],
   "source": [
    "spectrogram_ds = waveform_ds.map(\n",
    "    map_func=get_spectrogram_and_label_id,\n",
    "    num_parallel_calls=AUTOTUNE)"
   ]
  },
  {
   "cell_type": "code",
   "execution_count": 17,
   "metadata": {},
   "outputs": [
    {
     "data": {
      "text/plain": [
       "<ParallelMapDataset shapes: ((None, 129, 1), ()), types: (tf.float32, tf.int64)>"
      ]
     },
     "execution_count": 17,
     "metadata": {},
     "output_type": "execute_result"
    }
   ],
   "source": [
    "spectrogram_ds"
   ]
  },
  {
   "cell_type": "code",
   "execution_count": 227,
   "metadata": {},
   "outputs": [],
   "source": [
    "def preprocess_dataset(files):\n",
    "    files_ds = tf.data.Dataset.from_tensor_slices(files)\n",
    "    output_ds = files_ds.map(\n",
    "        map_func=get_waveform_and_label,\n",
    "        num_parallel_calls=AUTOTUNE)\n",
    "    output_ds = output_ds.map(\n",
    "        map_func=get_spectrogram_and_label_id,\n",
    "        num_parallel_calls=AUTOTUNE)\n",
    "    return output_ds"
   ]
  },
  {
   "cell_type": "code",
   "execution_count": 228,
   "metadata": {},
   "outputs": [],
   "source": [
    "train_ds = spectrogram_ds\n",
    "val_ds = preprocess_dataset(val_files)\n",
    "test_ds = preprocess_dataset(test_files)"
   ]
  },
  {
   "cell_type": "code",
   "execution_count": 118,
   "metadata": {},
   "outputs": [
    {
     "data": {
      "text/plain": [
       "<ParallelMapDataset shapes: ((None, 129, 1), ()), types: (tf.float32, tf.int64)>"
      ]
     },
     "execution_count": 118,
     "metadata": {},
     "output_type": "execute_result"
    }
   ],
   "source": [
    "val_ds"
   ]
  },
  {
   "cell_type": "code",
   "execution_count": null,
   "metadata": {},
   "outputs": [],
   "source": [
    "for spectrogram,label in spectrogram_ds.take(4):\n",
    "    print(spectrogram)\n",
    "    print(\"label:\",label)"
   ]
  },
  {
   "cell_type": "code",
   "execution_count": 229,
   "metadata": {},
   "outputs": [],
   "source": [
    "batch_size = 64\n",
    "train_ds = train_ds.batch(batch_size)\n",
    "val_ds = val_ds.batch(batch_size)"
   ]
  },
  {
   "cell_type": "code",
   "execution_count": 230,
   "metadata": {},
   "outputs": [],
   "source": [
    "train_ds = train_ds.cache().prefetch(AUTOTUNE)\n",
    "val_ds = val_ds.cache().prefetch(AUTOTUNE)"
   ]
  },
  {
   "cell_type": "code",
   "execution_count": 22,
   "metadata": {},
   "outputs": [
    {
     "name": "stdout",
     "output_type": "stream",
     "text": [
      "Input shape: (1697, 129, 1)\n"
     ]
    },
    {
     "data": {
      "text/plain": [
       "\"norm_layer = preprocessing.Normalization()\\nnorm_layer.adapt(data=spectrogram_ds.map(map_func=lambda spec, label: spec))\\n\\nmodel = models.Sequential([\\n    layers.Input(shape=input_shape),\\n    preprocessing.Resizing(32, 32), \\n    norm_layer,\\n    layers.Conv2D(32, 3, activation='relu'),\\n    layers.Conv2D(64, 3, activation='relu'),\\n    layers.MaxPooling2D(),\\n    layers.Dropout(0.25),\\n    layers.Flatten(),\\n    layers.Dense(128, activation='relu'),\\n    layers.Dropout(0.5),\\n    layers.Dense(num_labels),\\n])\""
      ]
     },
     "execution_count": 22,
     "metadata": {},
     "output_type": "execute_result"
    }
   ],
   "source": [
    "for spectrogram, _ in spectrogram_ds.take(1):\n",
    "    input_shape = spectrogram.shape\n",
    "print('Input shape:', input_shape)\n",
    "num_labels = len(commands)"
   ]
  },
  {
   "cell_type": "markdown",
   "metadata": {},
   "source": [
    "Model Training"
   ]
  },
  {
   "cell_type": "code",
   "execution_count": 51,
   "metadata": {},
   "outputs": [],
   "source": [
    "def get_model():\n",
    "    model = Sequential()\n",
    "    model.add(preprocessing.Resizing(32, 32))\n",
    "    model.add(Conv2D(32, kernel_size=(2, 2), activation='relu', input_shape=(1697, 129, 1)))\n",
    "    model.add(Conv2D(48, kernel_size=(2, 2), activation='relu'))\n",
    "    model.add(Conv2D(120, kernel_size=(2, 2), activation='relu'))\n",
    "    model.add(MaxPooling2D(pool_size=(2, 2)))\n",
    "    model.add(Dropout(0.25))\n",
    "    model.add(Flatten())\n",
    "    model.add(Dense(128, activation='relu'))\n",
    "    model.add(Dropout(0.25))\n",
    "    model.add(Dense(64, activation='relu'))\n",
    "    model.add(Dropout(0.4))\n",
    "    model.add(Dense(num_labels, activation='softmax'))\n",
    "    return model"
   ]
  },
  {
   "cell_type": "code",
   "execution_count": 53,
   "metadata": {},
   "outputs": [
    {
     "name": "stdout",
     "output_type": "stream",
     "text": [
      "Epoch 1/30\n"
     ]
    },
    {
     "name": "stderr",
     "output_type": "stream",
     "text": [
      "C:\\Users\\UEFI\\anaconda3\\lib\\site-packages\\keras\\backend.py:4906: UserWarning: \"`sparse_categorical_crossentropy` received `from_logits=True`, but the `output` argument was produced by a sigmoid or softmax activation and thus does not represent logits. Was this intended?\"\n",
      "  warnings.warn(\n"
     ]
    },
    {
     "name": "stdout",
     "output_type": "stream",
     "text": [
      "70/70 [==============================] - 29s 392ms/step - loss: 2.8204 - accuracy: 0.1946 - val_loss: 1.8111 - val_accuracy: 0.5679\n",
      "Epoch 2/30\n",
      "70/70 [==============================] - 23s 322ms/step - loss: 1.8321 - accuracy: 0.4533 - val_loss: 1.1218 - val_accuracy: 0.6893\n",
      "Epoch 3/30\n",
      "70/70 [==============================] - 21s 305ms/step - loss: 1.3759 - accuracy: 0.5810 - val_loss: 0.8841 - val_accuracy: 0.7482\n",
      "Epoch 4/30\n",
      "70/70 [==============================] - 22s 315ms/step - loss: 1.1170 - accuracy: 0.6621 - val_loss: 0.7708 - val_accuracy: 0.7821\n",
      "Epoch 5/30\n",
      "70/70 [==============================] - 20s 286ms/step - loss: 0.9327 - accuracy: 0.7183 - val_loss: 0.6595 - val_accuracy: 0.8107\n",
      "Epoch 6/30\n",
      "70/70 [==============================] - 22s 315ms/step - loss: 0.8008 - accuracy: 0.7522 - val_loss: 0.5877 - val_accuracy: 0.8375\n",
      "Epoch 7/30\n",
      "70/70 [==============================] - 20s 293ms/step - loss: 0.7243 - accuracy: 0.7797 - val_loss: 0.5778 - val_accuracy: 0.8446\n",
      "Epoch 8/30\n",
      "70/70 [==============================] - 22s 310ms/step - loss: 0.6595 - accuracy: 0.7998 - val_loss: 0.5390 - val_accuracy: 0.8429\n",
      "Epoch 9/30\n",
      "70/70 [==============================] - 23s 334ms/step - loss: 0.5943 - accuracy: 0.8196 - val_loss: 0.5122 - val_accuracy: 0.8500\n",
      "Epoch 10/30\n",
      "70/70 [==============================] - 20s 280ms/step - loss: 0.5580 - accuracy: 0.8299 - val_loss: 0.5895 - val_accuracy: 0.8536\n",
      "Epoch 11/30\n",
      "70/70 [==============================] - 23s 322ms/step - loss: 0.5188 - accuracy: 0.8413 - val_loss: 0.5494 - val_accuracy: 0.8643\n",
      "Epoch 12/30\n",
      "70/70 [==============================] - 20s 285ms/step - loss: 0.4794 - accuracy: 0.8522 - val_loss: 0.5432 - val_accuracy: 0.8696\n",
      "Epoch 13/30\n",
      "70/70 [==============================] - 20s 286ms/step - loss: 0.4637 - accuracy: 0.8596 - val_loss: 0.5080 - val_accuracy: 0.8786\n",
      "Epoch 14/30\n",
      "70/70 [==============================] - 21s 307ms/step - loss: 0.4407 - accuracy: 0.8674 - val_loss: 0.4904 - val_accuracy: 0.8768\n",
      "Epoch 15/30\n",
      "70/70 [==============================] - 22s 318ms/step - loss: 0.4017 - accuracy: 0.8790 - val_loss: 0.5139 - val_accuracy: 0.8768\n",
      "Epoch 16/30\n",
      "70/70 [==============================] - 22s 318ms/step - loss: 0.3869 - accuracy: 0.8815 - val_loss: 0.5544 - val_accuracy: 0.8643\n",
      "Epoch 17/30\n",
      "70/70 [==============================] - 22s 309ms/step - loss: 0.3729 - accuracy: 0.8891 - val_loss: 0.5120 - val_accuracy: 0.8786\n",
      "Epoch 18/30\n",
      "70/70 [==============================] - 20s 289ms/step - loss: 0.3358 - accuracy: 0.8973 - val_loss: 0.5091 - val_accuracy: 0.8714\n",
      "Epoch 19/30\n",
      "70/70 [==============================] - 20s 280ms/step - loss: 0.3569 - accuracy: 0.8895 - val_loss: 0.5100 - val_accuracy: 0.8804\n",
      "Epoch 20/30\n",
      "70/70 [==============================] - 20s 293ms/step - loss: 0.3143 - accuracy: 0.9060 - val_loss: 0.4874 - val_accuracy: 0.8911\n",
      "Epoch 21/30\n",
      "70/70 [==============================] - 22s 311ms/step - loss: 0.3037 - accuracy: 0.9029 - val_loss: 0.5376 - val_accuracy: 0.8768\n",
      "Epoch 22/30\n",
      "70/70 [==============================] - 22s 308ms/step - loss: 0.3020 - accuracy: 0.9058 - val_loss: 0.5501 - val_accuracy: 0.8929\n",
      "Epoch 23/30\n",
      "70/70 [==============================] - 22s 309ms/step - loss: 0.2877 - accuracy: 0.9132 - val_loss: 0.5138 - val_accuracy: 0.9018\n",
      "Epoch 24/30\n",
      "70/70 [==============================] - 21s 307ms/step - loss: 0.2881 - accuracy: 0.9123 - val_loss: 0.6106 - val_accuracy: 0.8714\n",
      "Epoch 25/30\n",
      "70/70 [==============================] - 22s 311ms/step - loss: 0.2946 - accuracy: 0.9121 - val_loss: 0.5648 - val_accuracy: 0.8857\n",
      "Epoch 26/30\n",
      "70/70 [==============================] - 23s 328ms/step - loss: 0.2708 - accuracy: 0.9167 - val_loss: 0.5663 - val_accuracy: 0.8857\n",
      "Epoch 27/30\n",
      "70/70 [==============================] - 23s 331ms/step - loss: 0.2427 - accuracy: 0.9237 - val_loss: 0.6550 - val_accuracy: 0.8679\n",
      "Epoch 28/30\n",
      "70/70 [==============================] - 22s 320ms/step - loss: 0.2574 - accuracy: 0.9223 - val_loss: 0.5557 - val_accuracy: 0.8982\n",
      "Epoch 29/30\n",
      "70/70 [==============================] - 21s 304ms/step - loss: 0.2219 - accuracy: 0.9283 - val_loss: 0.6116 - val_accuracy: 0.8929\n",
      "Epoch 30/30\n",
      "70/70 [==============================] - 20s 286ms/step - loss: 0.2389 - accuracy: 0.9254 - val_loss: 0.6801 - val_accuracy: 0.8893\n"
     ]
    },
    {
     "data": {
      "text/plain": [
       "<keras.callbacks.History at 0x222837b2c10>"
      ]
     },
     "execution_count": 53,
     "metadata": {},
     "output_type": "execute_result"
    }
   ],
   "source": [
    "model = get_model()\n",
    "\n",
    "optimizer = tf.keras.optimizers.Adam()\n",
    "# optimizer = optimizers.Adagrad(lr=0.01, epsilon=None, decay=0.0)\n",
    "\n",
    "model.compile(loss=tf.keras.losses.SparseCategoricalCrossentropy(from_logits=True),\n",
    "              optimizer=optimizer,\n",
    "              metrics=['accuracy'])\n",
    "model.fit(train_ds, batch_size=batch_size, epochs=30, verbose=1, validation_data=val_ds)"
   ]
  },
  {
   "cell_type": "code",
   "execution_count": 61,
   "metadata": {},
   "outputs": [],
   "source": [
    "#model.save(\"model_Spectrogram1.h5\")"
   ]
  },
  {
   "cell_type": "code",
   "execution_count": 231,
   "metadata": {},
   "outputs": [
    {
     "name": "stdout",
     "output_type": "stream",
     "text": [
      "Model: \"sequential_3\"\n",
      "_________________________________________________________________\n",
      "Layer (type)                 Output Shape              Param #   \n",
      "=================================================================\n",
      "resizing_2 (Resizing)        (None, 32, 32, 1)         0         \n",
      "_________________________________________________________________\n",
      "conv2d_5 (Conv2D)            (None, 31, 31, 32)        160       \n",
      "_________________________________________________________________\n",
      "conv2d_6 (Conv2D)            (None, 30, 30, 48)        6192      \n",
      "_________________________________________________________________\n",
      "conv2d_7 (Conv2D)            (None, 29, 29, 120)       23160     \n",
      "_________________________________________________________________\n",
      "max_pooling2d_2 (MaxPooling2 (None, 14, 14, 120)       0         \n",
      "_________________________________________________________________\n",
      "dropout_5 (Dropout)          (None, 14, 14, 120)       0         \n",
      "_________________________________________________________________\n",
      "flatten_2 (Flatten)          (None, 23520)             0         \n",
      "_________________________________________________________________\n",
      "dense_5 (Dense)              (None, 128)               3010688   \n",
      "_________________________________________________________________\n",
      "dropout_6 (Dropout)          (None, 128)               0         \n",
      "_________________________________________________________________\n",
      "dense_6 (Dense)              (None, 64)                8256      \n",
      "_________________________________________________________________\n",
      "dropout_7 (Dropout)          (None, 64)                0         \n",
      "_________________________________________________________________\n",
      "dense_7 (Dense)              (None, 28)                1820      \n",
      "=================================================================\n",
      "Total params: 3,050,276\n",
      "Trainable params: 3,050,276\n",
      "Non-trainable params: 0\n",
      "_________________________________________________________________\n"
     ]
    }
   ],
   "source": [
    "from keras.models import load_model\n",
    "model = load_model('model_Spectrogram1.h5')\n",
    "model.summary()"
   ]
  },
  {
   "cell_type": "code",
   "execution_count": 240,
   "metadata": {},
   "outputs": [],
   "source": [
    "test_audio = []\n",
    "test_labels = []\n",
    "\n",
    "for audio, label in test_ds:\n",
    "    test_audio.append(audio.numpy())\n",
    "    test_labels.append(label.numpy())\n",
    "\n",
    "test_audio = np.array(test_audio)\n",
    "test_labels = np.array(test_labels)"
   ]
  },
  {
   "cell_type": "code",
   "execution_count": 124,
   "metadata": {},
   "outputs": [
    {
     "name": "stdout",
     "output_type": "stream",
     "text": [
      "Test set accuracy: 92%\n"
     ]
    }
   ],
   "source": [
    "y_pred = np.argmax(model.predict(test_audio), axis=1)\n",
    "y_true = test_labels\n",
    "\n",
    "test_acc = sum(y_pred == y_true) / len(y_true)\n",
    "print(f'Test set accuracy: {test_acc:.0%}')"
   ]
  },
  {
   "cell_type": "code",
   "execution_count": 130,
   "metadata": {},
   "outputs": [],
   "source": [
    "y_label = []\n",
    "for i in range(len(y_true)):\n",
    "    label = commands[int(y_true[i])]\n",
    "    y_label = np.append(y_label,label)"
   ]
  },
  {
   "cell_type": "code",
   "execution_count": 132,
   "metadata": {},
   "outputs": [],
   "source": [
    "ypred_label = []\n",
    "for i in range(len(y_pred)):\n",
    "    label = commands[int(y_pred[i])]\n",
    "    ypred_label = np.append(ypred_label,label)"
   ]
  },
  {
   "cell_type": "code",
   "execution_count": 133,
   "metadata": {},
   "outputs": [],
   "source": [
    "wrong_pred = []\n",
    "for i in range(len(y_label)):\n",
    "    if ypred_label[i]!= y_label[i]:\n",
    "        wrong_pred = np.append(wrong_pred,y_label[i])"
   ]
  },
  {
   "cell_type": "code",
   "execution_count": 136,
   "metadata": {},
   "outputs": [
    {
     "data": {
      "text/plain": [
       "array(['คูณ', 'คูณ', 'คูณ', 'คอส', 'ลบ', 'ลบ', 'ลบ', 'ลบ', 'ลบ', 'ลบ',\n",
       "       'ศูนย์', 'ศูนย์', 'ศูนย์', 'ศูนย์', 'ศูนย์', 'วาย', 'วาย', 'สอง',\n",
       "       'ร้อย', 'หาร', 'หาร', 'แปด', 'ส่วน', 'แปด', 'แปด', 'ส่วน', 'ส่วน',\n",
       "       'ส่วน', 'ส่วน', 'ส่วน', 'ส่วน', 'ส่วน', 'ส่วน', 'ส่วน', 'ไซน์',\n",
       "       'แทน', 'หก', 'หก', 'หก', 'หก', 'หก', 'หก', 'หก', 'หก', 'หก', 'หก',\n",
       "       'หก', 'หก', 'หก', 'หก', 'หก', 'เอ็กซ์', 'เอ็กซ์', 'เอ็กซ์',\n",
       "       'เอ็กซ์', 'เอ็กซ์', 'เจ็ด', 'เจ็ด', 'เจ็ด', 'เจ็ด', 'เจ็ด', 'เจ็ด',\n",
       "       'เจ็ด', 'เจ็ด', 'เก้า', 'ห้า'], dtype='<U32')"
      ]
     },
     "execution_count": 136,
     "metadata": {},
     "output_type": "execute_result"
    }
   ],
   "source": [
    "wrong_pred"
   ]
  },
  {
   "cell_type": "code",
   "execution_count": 200,
   "metadata": {},
   "outputs": [],
   "source": [
    "import pandas as pd\n",
    "\n",
    "df_test = pd.read_csv('testaccequation.csv')\n",
    "\n",
    "file_n = df_test['file_location'].values.tolist()\n",
    "label_n = df_test['label'].values.tolist()"
   ]
  },
  {
   "cell_type": "code",
   "execution_count": 201,
   "metadata": {},
   "outputs": [
    {
     "data": {
      "text/plain": [
       "<ParallelMapDataset shapes: ((None, 129, 1), ()), types: (tf.float32, tf.int64)>"
      ]
     },
     "execution_count": 201,
     "metadata": {},
     "output_type": "execute_result"
    }
   ],
   "source": [
    "sampleCon_ds=preprocess_dataset(file_n)\n",
    "sampleCon_ds"
   ]
  },
  {
   "cell_type": "code",
   "execution_count": 202,
   "metadata": {},
   "outputs": [],
   "source": [
    "testCon = []\n",
    "for audio, label in sampleCon_ds:\n",
    "    testCon.append(audio.numpy())\n",
    "    \n",
    "testCon = np.array(testCon)"
   ]
  },
  {
   "cell_type": "code",
   "execution_count": 203,
   "metadata": {},
   "outputs": [],
   "source": [
    "sampleCon = model.predict(testCon)\n",
    "#sampleCon"
   ]
  },
  {
   "cell_type": "code",
   "execution_count": 204,
   "metadata": {},
   "outputs": [
    {
     "name": "stdout",
     "output_type": "stream",
     "text": [
      "Predict ['สิบ' 'ร้อย' 'สอง' 'ลบ' 'สิบ' 'สิบ' 'สาม' 'หก' 'สอง' 'สิบ' 'สิบ' 'บวก'\n",
      " 'สิบ' 'สิบ' 'แปด' 'สิบ' 'แปด' 'บวก' 'สิบ' 'เอ็กซ์' 'ลบ' 'สิบ' 'สิบ' 'สิบ'\n",
      " 'ลบ' 'แปด' 'สิบ' 'สิบ' 'สอง' 'ลบ' 'สี่' 'สิบ' 'สอง' 'ลบ' 'คอส' 'สิบ'\n",
      " 'แซด' 'หก' 'สิบ' 'หก' 'สิบ' 'สอง' 'ลบ' 'สิบ' 'สิบ' 'บวก' 'สิบ' 'สิบ'\n",
      " 'สิบ' 'สิบ' 'สิบ' 'สอง' 'ลบ' 'สิบ' 'เอ็ด' 'สิบ' 'สิบ' 'สิบ' 'สิบ' 'สิบ'\n",
      " 'สิบ' 'แปด' 'สิบ' 'สิบ' 'สิบ' 'สิบ' 'ลบ' 'ห้า' 'สิบ' 'เอ็ด' 'ลบ' 'สิบ'\n",
      " 'คอส' 'สิบ' 'สิบ' 'แปด' 'ลบ' 'คอส' 'สิบ' 'สี่' 'บวก' 'สิบ' 'ห้า' 'แปด'\n",
      " 'ร้อย' 'สิบ' 'สาม' 'บวก' 'เก้า' 'สิบ' 'สิบ' 'บวก' 'เอ็กซ์' 'สิบ' 'สิบ'\n",
      " 'ลบ' 'สิบ' 'สิบ' 'สิบ' 'แซด' 'ร้อย' 'สิบ' 'เก้า' 'บวก' 'เก้า' 'สิบ' 'สิบ'\n",
      " 'สิบ' 'สิบ' 'สิบ' 'สิบ' 'ลบ' 'สิบ' 'สิบ' 'สิบ' 'เจ็ด' 'ร้อย' 'สี่' 'สิบ'\n",
      " 'สิบ' 'ลบ' 'หก' 'สิบ' 'หก' 'ลบ' 'เก้า' 'บวก' 'สิบ' 'สิบ' 'สี่' 'เอ็กซ์'\n",
      " 'ไซน์' 'สอง' 'บวก' 'สี่' 'เศษ' 'วาย' 'หาร' 'แซด' 'เท่ากับ' 'ศูนย์' 'เก้า'\n",
      " 'ร้อย' 'ยกกำลัง' 'สอง' 'บวก' 'แปด' 'สิบ' 'เอ็ด' 'บวก' 'เอ็กซ์' 'หาร'\n",
      " 'ไซน์' 'ยกกำลัง' 'ยี่' 'บวก' 'ห้า' 'เศษ' 'ยี่' 'หนึ่ง' 'ศูนย์' 'สอง'\n",
      " 'บวก' 'เอ็กซ์' 'คอส' 'หาร' 'บวก' 'ไซน์' 'ยกกำลัง' 'ยี่' 'ศูนย์' 'แซด'\n",
      " 'ยกกำลัง' 'ห้า' 'เท่ากับ' 'ห้า' 'เอ็ด' 'เศษ' 'แปด' 'คอส' 'หาร' 'หาร'\n",
      " 'เอ็กซ์' 'เอ็กซ์' 'ยกกำลัง' 'สอง' 'หาร' 'เอ็กซ์' 'ยกกำลัง' 'สาม' 'สอง'\n",
      " 'ไซน์' 'เท่ากับ' 'เอ็ด' 'สิบ' 'ยี่' 'หาร' 'ยกกำลัง' 'สี่' 'คูณ' 'วาย'\n",
      " 'ยกกำลัง' 'สาม' 'ศูนย์' 'สาม' 'เศษ' 'สอง' 'เอ็กซ์' 'เท่ากับ' 'ศูนย์'\n",
      " 'เจ็ด' 'แปด' 'เศษ' 'หก' 'ศูนย์' 'สาม' 'สิบ' 'สอง' 'บวก' 'ศูนย์' 'บวก'\n",
      " 'เอ็กซ์' 'ยกกำลัง' 'วาย' 'เท่ากับ' 'แซด' 'บวก' 'ห้า' 'เศษ' 'คอส' 'ยี่'\n",
      " 'ยี่' 'เศษ' 'เอ็ด' 'ส่วน' 'สาม' 'บวก' 'เศษ' 'หก' 'ศูนย์' 'สาม' 'สี่'\n",
      " 'ยี่' 'สี่' 'สอง' 'เศษ' 'สาม' 'ยี่' 'เศษ' 'ห้า' 'เอ็กซ์' 'เท่ากับ' 'วาย'\n",
      " 'แทน' 'ยี่' 'บวก' 'เศษ' 'สอง' 'บวก' 'เศษ' 'สอง' 'สิบ' 'สาม' 'เอ็กซ์'\n",
      " 'บวก' 'วาย' 'ยกกำลัง' 'ร้อย' 'แปด' 'ยี่' 'เศษ' 'เศษ' 'แซด' 'ยกกำลัง'\n",
      " 'สาม' 'เท่ากับ' 'เอ็กซ์' 'บวก' 'เอ็ด' 'แซด' 'ยี่' 'ยี่' 'สอง' 'แปด' 'หาร'\n",
      " 'ไซน์' 'ยกกำลัง' 'ร้อย' 'บวก' 'ยี่' 'เศษ' 'หาร' 'เอ็กซ์' 'ศูนย์' 'แซด'\n",
      " 'ยกกำลัง' 'ยี่' 'เท่ากับ' 'หก' 'บวก' 'ศูนย์' 'แปด' 'เจ็ด' 'ไซน์' 'แทน'\n",
      " 'คอส' 'สิบ' 'เอ็ด' 'สอง' 'ยี่' 'เอ็ด' 'สิบ' 'สาม' 'หาร' 'เศษ' 'หก' 'ส่วน'\n",
      " 'สิบ' 'สอง' 'สี่' 'แซด' 'เท่ากับ' 'ศูนย์' 'แทน' 'ยี่' 'สิบ' 'สิบ' 'ห้า'\n",
      " 'หาร' 'แปด' 'เอ็กซ์' 'บวก' 'ศูนย์' 'ลบ' 'หนึ่ง' 'เท่ากับ' 'หนึ่ง' 'ศูนย์'\n",
      " 'ยกกำลัง' 'สอง' 'บวก' 'หนึ่ง' 'ยกกำลัง' 'ห้า' 'ลบ' 'ส่วน' 'ยกกำลัง' 'สี่'\n",
      " 'เท่ากับ' 'ศูนย์' 'บวก' 'เอ็กซ์' 'บวก' 'วาย' 'ศูนย์' 'ศูนย์' 'หนึ่ง'\n",
      " 'หาร' 'ศูนย์' 'ลบ' 'ศูนย์' 'บวก' 'หนึ่ง' 'คอส' 'ศูนย์' 'วาย' 'เอ็กซ์'\n",
      " 'หนึ่ง' 'วาย' 'บวก' 'คอส' 'แซด' 'ยกกำลัง' 'ร้อย' 'บวก' 'สี่' 'เศษ' 'เอ็ด'\n",
      " 'บวก' 'สี่' 'เจ็ด' 'เอ็ด' 'เท่ากับ' 'ศูนย์' 'แทน' 'ไซน์' 'ยกกำลัง' 'ส่วน'\n",
      " 'บวก' 'วาย' 'เอ็ด' 'ศูนย์' 'แซด' 'บวก' 'ยี่' 'เศษ' 'เอ็ด' 'หนึ่ง' 'ยี่'\n",
      " 'เศษ' 'เอ็ด' 'หาร' 'ยี่' 'สิบ' 'เอ็ด' 'คอส' 'ศูนย์' 'คอส' 'เอ็กซ์' 'บวก'\n",
      " 'แทน' 'วาย' 'บวก' 'ไซน์' 'เอ็กซ์' 'เท่ากับ' 'เอ็กซ์' 'บวก' 'วาย' 'แทน'\n",
      " 'หนึ่ง' 'ร้อย' 'ยี่' 'เศษ' 'เอ็กซ์' 'แปด' 'หนึ่ง' 'ร้อย' 'ยี่' 'เศษ'\n",
      " 'เอ็ด' 'แทน' 'หนึ่ง' 'ร้อย' 'ยี่' 'สิบ' 'เอ็ด' 'หนึ่ง' 'ร้อย' 'ยี่' 'สิบ'\n",
      " 'เอ็ด' 'หนึ่ง' 'ร้อย' 'ยี่' 'สิบ' 'เอ็ด' 'แทน' 'ร้อย' 'ยี่' 'สิบ' 'เอ็ด'\n",
      " 'หนึ่ง' 'ร้อย' 'ยี่' 'สิบ' 'เอ็ด' 'หนึ่ง' 'ร้อย' 'ยี่' 'เศษ' 'เอ็ด'\n",
      " 'หนึ่ง' 'ร้อย' 'ยี่' 'สิบ' 'เอ็ด' 'หนึ่ง' 'ร้อย' 'ยี่' 'สิบ' 'เอ็ด'\n",
      " 'หนึ่ง' 'ร้อย' 'ยี่' 'สิบ' 'เอ็ด' 'หนึ่ง' 'ร้อย' 'ยี่' 'สิบ' 'เอ็ด'\n",
      " 'หนึ่ง' 'ร้อย' 'ยี่' 'สิบ' 'เอ็ด' 'หนึ่ง' 'ร้อย' 'ยี่' 'สิบ' 'เอ็ด'\n",
      " 'หนึ่ง' 'ร้อย' 'ยี่' 'สิบ' 'เอ็ด' 'หนึ่ง' 'หนึ่ง' 'หนึ่ง' 'คูณ' 'หนึ่ง'\n",
      " 'สอง' 'เอ็กซ์' 'หาร' 'สอง' 'ร้อย' 'สาม' 'สอง' 'ร้อย' 'ร้อย' 'แซด' 'หาร'\n",
      " 'เท่ากับ' 'แซด' 'หาร' 'สอง' 'แซด' 'หาร' 'คอส' 'แซด' 'หาร' 'คอส' 'เอ็กซ์'\n",
      " 'ไซน์' 'แซด' 'หาร' 'หาร' 'แซด' 'สาม' 'ไซน์' 'แซด' 'หาร' 'ไซน์' 'เอ็ด'\n",
      " 'สาม' 'วาย' 'เอ็กซ์' 'แทน' 'แซด' 'แทน' 'เจ็ด' 'แทน' 'สาม' 'หาร' 'วาย'\n",
      " 'หาร' 'ร้อย' 'ร้อย' 'วาย' 'บวก' 'เศษ' 'สาม' 'สิบ' 'ห้า' 'คอส' 'เศษ' 'สาม'\n",
      " 'สิบ' 'ห้า' 'ร้อย' 'แทน' 'สาม' 'ศูนย์' 'ห้า' 'ร้อย' 'เศษ' 'หาร' 'ศูนย์'\n",
      " 'ห้า' 'คอส' 'เศษ' 'สาม' 'สิบ' 'หาร' 'คอส' 'เศษ' 'สาม' 'ส่วน' 'ห้า' 'ร้อย'\n",
      " 'เอ็ด' 'สาม' 'เท่ากับ' 'แทน' 'คอส' 'หาร' 'คอส' 'สาม' 'คอส' 'สิบ' 'คอส'\n",
      " 'หก' 'คอส' 'หก' 'ไซน์' 'ลบ' 'วาย' 'แซด' 'วาย' 'สาม' 'หาร' 'เก้า' 'หาร'\n",
      " 'สาม' 'วาย' 'สาม' 'ไซน์' 'สาม' 'ไซน์' 'สาม' 'ไซน์' 'หาร' 'ไซน์' 'หาร'\n",
      " 'สาม' 'หาร' 'ไซน์' 'ห้า' 'แทน' 'แปด' 'แทน' 'เอ็ด' 'แทน' 'เอ็ด' 'แทน'\n",
      " 'เอ็ด' 'เอ็ด' 'เอ็ด' 'แทน' 'เท่ากับ' 'แทน' 'เท่ากับ' 'เอ็ด' 'เท่ากับ'\n",
      " 'เอ็ด' 'เท่ากับ' 'เศษ']\n",
      "2nd rank ['เจ็ด' 'วาย' 'ลบ' 'หก' 'เศษ' 'เจ็ด' 'สอง' 'ลบ' 'ส่วน' 'เจ็ด' 'เจ็ด' 'คูณ'\n",
      " 'เจ็ด' 'เจ็ด' 'แซด' 'เจ็ด' 'ห้า' 'เท่ากับ' 'หก' 'เอ็ด' 'หก' 'เจ็ด' 'เจ็ด'\n",
      " 'เจ็ด' 'หก' 'แซด' 'เจ็ด' 'เจ็ด' 'วาย' 'หก' 'เศษ' 'หก' 'ร้อย' 'หก' 'ลบ'\n",
      " 'เจ็ด' 'แปด' 'คอส' 'หก' 'ลบ' 'หก' 'คูณ' 'หก' 'เจ็ด' 'เอ็ด' 'เท่ากับ'\n",
      " 'เจ็ด' 'หก' 'เจ็ด' 'หก' 'หก' 'ลบ' 'คอส' 'เจ็ด' 'สิบ' 'บวก' 'เจ็ด' 'เจ็ด'\n",
      " 'เจ็ด' 'เจ็ด' 'เจ็ด' 'แซด' 'บวก' 'เจ็ด' 'เจ็ด' 'เจ็ด' 'คอส' 'แปด' 'เอ็ด'\n",
      " 'สิบ' 'หก' 'เอ็ด' 'สาม' 'เจ็ด' 'เจ็ด' 'เอ็ด' 'คอส' 'เก้า' 'เจ็ด' 'ยี่'\n",
      " 'เท่ากับ' 'หก' 'แปด' 'หาร' 'คอส' 'เจ็ด' 'หาร' 'เท่ากับ' 'สาม' 'เจ็ด'\n",
      " 'เจ็ด' 'สิบ' 'สี่' 'เจ็ด' 'เจ็ด' 'คอส' 'เอ็ด' 'ส่วน' 'หก' 'แปด' 'วาย'\n",
      " 'เอ็ด' 'สาม' 'เท่ากับ' 'สาม' 'เจ็ด' 'เจ็ด' 'บวก' 'เศษ' 'เจ็ด' 'เจ็ด' 'หก'\n",
      " 'หก' 'หก' 'เจ็ด' 'สิบ' 'วาย' 'เศษ' 'เจ็ด' 'เจ็ด' 'หก' 'เอ็ด' 'หก' 'เอ็ด'\n",
      " 'หก' 'ห้า' 'คูณ' 'เจ็ด' 'เจ็ด' 'สิบ' 'เอ็ด' 'ส่วน' 'คอส' 'ศูนย์' 'ยี่'\n",
      " 'เจ็ด' 'ไซน์' 'ไซน์' 'แปด' 'ห้า' 'ส่วน' 'ไซน์' 'ไซน์' 'ส่วน' 'ลบ' 'คูณ'\n",
      " 'แซด' 'เอ็ด' 'เอ็กซ์' 'เท่ากับ' 'เอ็ด' 'ไซน์' 'วาย' 'ส่วน' 'สี่'\n",
      " 'เท่ากับ' 'หาร' 'สิบ' 'แทน' 'แทน' 'ส่วน' 'ส่วน' 'สอง' 'เอ็ด' 'เท่ากับ'\n",
      " 'ไซน์' 'สอง' 'วาย' 'ส่วน' 'สี่' 'สี่' 'แปด' 'ส่วน' 'หาร' 'บวก' 'หาร'\n",
      " 'สิบ' 'สิบ' 'แทน' 'เท่ากับ' 'สาม' 'แทน' 'ยี่' 'เอ็ด' 'ส่วน' 'ลบ' 'วาย'\n",
      " 'เอ็ด' 'ศูนย์' 'ไซน์' 'ร้อย' 'วาย' 'คอส' 'เอ็กซ์' 'เจ็ด' 'สี่' 'แปด'\n",
      " 'ส่วน' 'ยี่' 'หนึ่ง' 'ไซน์' 'ส่วน' 'เก้า' 'หนึ่ง' 'หาร' 'สิบ' 'ร้อย'\n",
      " 'เอ็ด' 'คอส' 'สี่' 'เศษ' 'ห้า' 'เจ็ด' 'ลบ' 'ส่วน' 'หาร' 'เจ็ด' 'ร้อย'\n",
      " 'เท่ากับ' 'สิบ' 'เท่ากับ' 'เอ็ด' 'ส่วน' 'ไซน์' 'คอส' 'เจ็ด' 'เท่ากับ'\n",
      " 'หาร' 'สิบ' 'ลบ' 'เอ็กซ์' 'สี่' 'เจ็ด' 'เอ็กซ์' 'ศูนย์' 'เก้า' 'เท่ากับ'\n",
      " 'สิบ' 'ลบ' 'ส่วน' 'คอส' 'ศูนย์' 'สี่' 'ยี่' 'ส่วน' 'เอ็ด' 'หาร' 'สี่'\n",
      " 'สิบ' 'หาร' 'เอ็ด' 'คอส' 'ไซน์' 'ยี่' 'สี่' 'สอง' 'เจ็ด' 'ลบ' 'คอส' 'สิบ'\n",
      " 'ร้อย' 'ศูนย์' 'คอส' 'เอ็ด' 'เท่ากับ' 'ไซน์' 'ส่วน' 'วาย' 'คอส' 'สี่'\n",
      " 'เจ็ด' 'สิบ' 'แปด' 'ส่วน' 'วาย' 'คอส' 'เอ็ด' 'ศูนย์' 'เอ็กซ์' 'แปด' 'เศษ'\n",
      " 'สี่' 'ส่วน' 'เอ็ด' 'ห้า' 'วาย' 'ส่วน' 'สอง' 'สี่' 'สี่' 'สิบ' 'แปด'\n",
      " 'เอ็ด' 'คูณ' 'แปด' 'ส่วน' 'สี่' 'คอส' 'ลบ' 'เท่ากับ' 'สี่' 'แทน' 'เอ็ด'\n",
      " 'วาย' 'ยี่' 'หก' 'ส่วน' 'เอ็กซ์' 'หก' 'เอ็กซ์' 'เอ็กซ์' 'ศูนย์' 'หาร'\n",
      " 'สาม' 'ยี่' 'ลบ' 'สอง' 'เจ็ด' 'ร้อย' 'ศูนย์' 'แปด' 'บวก' 'สี่' 'เศษ'\n",
      " 'สี่' 'ส่วน' 'หก' 'หาร' 'วาย' 'แซด' 'เอ็ด' 'เท่ากับ' 'ส่วน' 'หก' 'คูณ'\n",
      " 'คอส' 'คูณ' 'แทน' 'สาม' 'คอส' 'คอส' 'สี่' 'คอส' 'หาร' 'คอส' 'สิบ' 'คอส'\n",
      " 'ยี่' 'คอส' 'หนึ่ง' 'เท่ากับ' 'คอส' 'เท่ากับ' 'ไซน์' 'สี่' 'หนึ่ง'\n",
      " 'ศูนย์' 'ไซน์' 'สี่' 'คอส' 'คูณ' 'เท่ากับ' 'คูณ' 'ลบ' 'คูณ' 'ไซน์' 'คอส'\n",
      " 'ส่วน' 'ไซน์' 'เท่ากับ' 'ร้อย' 'แปด' 'ส่วน' 'คอส' 'เท่ากับ' 'ยี่' 'สิบ'\n",
      " 'เอ็กซ์' 'เท่ากับ' 'ยี่' 'สิบ' 'เอ็กซ์' 'บวก' 'หนึ่ง' 'ไซน์' 'วาย' 'บวก'\n",
      " 'สอง' 'คูณ' 'ไซน์' 'เอ็กซ์' 'ส่วน' 'แปด' 'สอง' 'สี่' 'สิบ' 'เอ็กซ์' 'สี่'\n",
      " 'สี่' 'สิบ' 'เอ็กซ์' 'ห้า' 'สี่' 'เศษ' 'เอ็กซ์' 'บวก' 'ส่วน' 'บวก' 'เอ็ด'\n",
      " 'คูณ' 'เศษ' 'ไซน์' 'คูณ' 'ร้อย' 'เอ็ด' 'คอส' 'เอ็ด' 'เท่ากับ' 'ไซน์'\n",
      " 'เศษ' 'แทน' 'ไซน์' 'สี่' 'เจ็ด' 'เอ็ด' 'แทน' 'เอ็กซ์' 'วาย' 'สี่' 'สิบ'\n",
      " 'เอ็กซ์' 'เอ็ด' 'แทน' 'วาย' 'สี่' 'เจ็ด' 'เอ็กซ์' 'แทน' 'ไซน์' 'สี่'\n",
      " 'เอ็ด' 'เอ็กซ์' 'แทน' 'ไซน์' 'สี่' 'เอ็ด' 'เอ็กซ์' 'หนึ่ง' 'ไซน์' 'สี่'\n",
      " 'เอ็ด' 'สิบ' 'เอ็กซ์' 'ไซน์' 'สี่' 'เอ็ด' 'เอ็กซ์' 'เอ็กซ์' 'ไซน์' 'สี่'\n",
      " 'สิบ' 'เอ็กซ์' 'แทน' 'ไซน์' 'สี่' 'เจ็ด' 'เอ็กซ์' 'แทน' 'คอส' 'เอ็กซ์'\n",
      " 'เอ็ด' 'เอ็กซ์' 'เอ็กซ์' 'ไซน์' 'สี่' 'เจ็ด' 'เอ็กซ์' 'เอ็กซ์' 'ไซน์'\n",
      " 'สี่' 'เจ็ด' 'เอ็กซ์' 'แทน' 'ไซน์' 'เอ็กซ์' 'เจ็ด' 'เอ็กซ์' 'เอ็กซ์'\n",
      " 'ไซน์' 'เอ็กซ์' 'เอ็ด' 'เอ็กซ์' 'แทน' 'ไซน์' 'สี่' 'เจ็ด' 'เอ็กซ์'\n",
      " 'เอ็กซ์' 'สี่' 'แทน' 'เอ็ด' 'เอ็กซ์' 'บวก' 'เอ็ด' 'สาม' 'ลบ' 'วาย' 'หาร'\n",
      " 'บวก' 'ไซน์' 'คอส' 'แปด' 'ไซน์' 'ห้า' 'เจ็ด' 'สาม' 'คอส' 'หก' 'สาม'\n",
      " 'ส่วน' 'เอ็ด' 'สาม' 'ร้อย' 'คอส' 'วาย' 'แปด' 'สาม' 'สาม' 'เจ็ด' 'หาร'\n",
      " 'หาร' 'เจ็ด' 'ห้า' 'หาร' 'แซด' 'หาร' 'ไซน์' 'เอ็ด' 'หาร' 'เอ็ด' 'หาร'\n",
      " 'เอ็ด' 'หาร' 'วาย' 'แทน' 'ไซน์' 'แทน' 'ไซน์' 'คอส' 'ไซน์' 'คอส' 'เอ็กซ์'\n",
      " 'แซด' 'หก' 'หาร' 'บวก' 'สิบ' 'คอส' 'ส่วน' 'หาร' 'สอง' 'เศษ' 'คอส' 'ส่วน'\n",
      " 'หาร' 'สอง' 'ยี่' 'สาม' 'ส่วน' 'หาร' 'ร้อย' 'สิบ' 'หาร' 'ส่วน' 'ห้า'\n",
      " 'สอง' 'สิบ' 'คอส' 'ศูนย์' 'หาร' 'คอส' 'เอ็กซ์' 'หาร' 'ส่วน' 'ไซน์'\n",
      " 'เท่ากับ' 'สาม' 'บวก' 'หาร' 'บวก' 'หก' 'เท่ากับ' 'ลบ' 'บวก' 'เอ็ด' 'วาย'\n",
      " 'คอส' 'ไซน์' 'สาม' 'ไซน์' 'หาร' 'ไซน์' 'ห้า' 'สาม' 'เก้า' 'ไซน์' 'เก้า'\n",
      " 'วาย' 'หาร' 'วาย' 'หาร' 'หาร' 'ห้า' 'หาร' 'ห้า' 'หาร' 'แทน' 'หาร' 'หาร'\n",
      " 'ยี่' 'เอ็ด' 'หาร' 'แซด' 'เศษ' 'เอ็กซ์' 'เอ็ด' 'เอ็กซ์' 'เศษ' 'แซด' 'หาร'\n",
      " 'คอส' 'เอ็ด' 'ห้า' 'เศษ' 'เอ็ด' 'แทน' 'คอส' 'แทน']\n",
      "3rd rank ['ส่วน' 'ไซน์' 'หก' 'คอส' 'สี่' 'หก' 'วาย' 'สิบ' 'เก้า' 'หก' 'เศษ' 'สิบ'\n",
      " 'หก' 'เศษ' 'ลบ' 'เอ็ด' 'แซด' 'คอส' 'เจ็ด' 'เจ็ด' 'คอส' 'หก' 'หก' 'เศษ'\n",
      " 'คอส' 'คอส' 'หก' 'หก' 'สาม' 'คอส' 'สิบ' 'เจ็ด' 'คอส' 'คอส' 'แปด' 'เอ็ด'\n",
      " 'เอ็ด' 'บวก' 'เอ็ด' 'สิบ' 'เจ็ด' 'วาย' 'คอส' 'หก' 'หก' 'คอส' 'เศษ' 'เจ็ด'\n",
      " 'หก' 'ลบ' 'เจ็ด' 'ส่วน' 'หก' 'ส่วน' 'เอ็กซ์' 'หก' 'เศษ' 'หก' 'เอ็ด' 'เศษ'\n",
      " 'ส่วน' 'เอ็ด' 'เศษ' 'เศษ' 'ส่วน' 'เศษ' 'หก' 'หาร' 'หก' 'เอ็กซ์' 'คอส'\n",
      " 'หก' 'ส่วน' 'เศษ' 'เอ็ด' 'เอ็กซ์' 'หก' 'ลบ' 'หก' 'เศษ' 'คอส' 'เจ็ด'\n",
      " 'เก้า' 'แทน' 'วาย' 'เอ็ด' 'เก้า' 'คอส' 'ห้า' 'เอ็ด' 'ส่วน' 'คูณ' 'สิบ'\n",
      " 'เอ็ด' 'เอ็ด' 'หก' 'หก' 'เจ็ด' 'เจ็ด' 'เอ็ด' 'ไซน์' 'หก' 'ไซน์' 'คอส'\n",
      " 'ห้า' 'หก' 'เศษ' 'คูณ' 'สี่' 'เอ็ด' 'เศษ' 'คอส' 'เอ็ด' 'เอ็ด' 'เศษ' 'แซด'\n",
      " 'สาม' 'สิบ' 'หก' 'เศษ' 'คอส' 'สิบ' 'เจ็ด' 'สิบ' 'คอส' 'สาม' 'เท่ากับ'\n",
      " 'เอ็ด' 'หก' 'เศษ' 'เจ็ด' 'คอส' 'ร้อย' 'คูณ' 'เศษ' 'สิบ' 'หาร' 'วาย' 'คอส'\n",
      " 'คอส' 'คูณ' 'ห้า' 'แทน' 'คอส' 'ส่วน' 'ศูนย์' 'เอ็ด' 'หก' 'สิบ' 'คูณ'\n",
      " 'คอส' 'วาย' 'หาร' 'ศูนย์' 'แทน' 'คอส' 'ส่วน' 'เจ็ด' 'สี่' 'สี่' 'บวก'\n",
      " 'ลบ' 'คอส' 'เศษ' 'สาม' 'วาย' 'คอส' 'ร้อย' 'ศูนย์' 'แทน' 'หนึ่ง' 'เอ็ด'\n",
      " 'ศูนย์' 'ไซน์' 'เศษ' 'ไซน์' 'เอ็กซ์' 'เอ็กซ์' 'เจ็ด' 'สาม' 'ห้า' 'ห้า'\n",
      " 'เศษ' 'คอส' 'ศูนย์' 'ร้อย' 'ไซน์' 'คอส' 'ส่วน' 'หาร' 'บวก' 'หาร' 'บวก'\n",
      " 'สิบ' 'ส่วน' 'เศษ' 'ห้า' 'ศูนย์' 'เศษ' 'บวก' 'ร้อย' 'คอส' 'หาร' 'สี่'\n",
      " 'ไซน์' 'เจ็ด' 'ส่วน' 'คอส' 'บวก' 'คูณ' 'สิบ' 'หาร' 'สิบ' 'สิบ' 'บวก'\n",
      " 'ไซน์' 'เศษ' 'คอส' 'คอส' 'ส่วน' 'คอส' 'คอส' 'คอส' 'ร้อย' 'ห้า' 'แปด'\n",
      " 'คอส' 'ไซน์' 'เจ็ด' 'หก' 'เศษ' 'แทน' 'สิบ' 'แซด' 'สิบ' 'คอส' 'คอส' 'เจ็ด'\n",
      " 'คอส' 'สิบ' 'หาร' 'บวก' 'เศษ' 'หนึ่ง' 'บวก' 'เอ็กซ์' 'วาย' 'เศษ' 'เจ็ด'\n",
      " 'ไซน์' 'เศษ' 'บวก' 'หาร' 'เศษ' 'แทน' 'คอส' 'สิบ' 'ส่วน' 'หก' 'สี่' 'บวก'\n",
      " 'บวก' 'วาย' 'คอส' 'คอส' 'หาร' 'ศูนย์' 'สอง' 'ลบ' 'เอ็กซ์' 'สิบ' 'เจ็ด'\n",
      " 'เอ็ด' 'ศูนย์' 'หาร' 'ห้า' 'คอส' 'สี่' 'สิบ' 'เอ็ด' 'แทน' 'แทน' 'สี่'\n",
      " 'เอ็กซ์' 'สาม' 'หาร' 'คอส' 'หก' 'ศูนย์' 'เศษ' 'เจ็ด' 'แทน' 'เศษ' 'หนึ่ง'\n",
      " 'เอ็ด' 'ศูนย์' 'เศษ' 'ห้า' 'สิบ' 'คูณ' 'หนึ่ง' 'คอส' 'สิบ' 'หาร' 'เศษ'\n",
      " 'เท่ากับ' 'สี่' 'สิบ' 'ร้อย' 'เศษ' 'แปด' 'ส่วน' 'เก้า' 'ห้า' 'แทน' 'คอส'\n",
      " 'คอส' 'เอ็ด' 'ลบ' 'หนึ่ง' 'เอ็ด' 'คอส' 'คูณ' 'ยี่' 'แทน' 'หก' 'เอ็ด'\n",
      " 'ไซน์' 'ห้า' 'เอ็ด' 'คอส' 'คอส' 'คูณ' 'คอส' 'ศูนย์' 'ห้า' 'ศูนย์' 'สี่'\n",
      " 'เก้า' 'ร้อย' 'เท่ากับ' 'สิบ' 'บวก' 'ไซน์' 'หก' 'ศูนย์' 'บวก' 'สิบ' 'บวก'\n",
      " 'คูณ' 'คอส' 'เอ็ด' 'คอส' 'ร้อย' 'บวก' 'สี่' 'คูณ' 'แทน' 'หนึ่ง' 'แปด'\n",
      " 'บวก' 'คอส' 'สี่' 'หก' 'สี่' 'ร้อย' 'เอ็ด' 'ศูนย์' 'ร้อย' 'คอส' 'บวก'\n",
      " 'เจ็ด' 'คอส' 'หก' 'คอส' 'แทน' 'เจ็ด' 'แซด' 'คอส' 'แทน' 'เศษ' 'สิบ' 'คอส'\n",
      " 'คูณ' 'ยี่' 'ยกกำลัง' 'คอส' 'หก' 'เท่ากับ' 'ร้อย' 'เศษ' 'สิบ' 'เจ็ด'\n",
      " 'คอส' 'แทน' 'เจ็ด' 'สิบ' 'ศูนย์' 'แทน' 'เจ็ด' 'แซด' 'ไซน์' 'แทน' 'เจ็ด'\n",
      " 'สิบ' 'เท่ากับ' 'บวก' 'ร้อย' 'เศษ' 'สอง' 'ยี่' 'ร้อย' 'เท่ากับ' 'วาย'\n",
      " 'คอส' 'บวก' 'เศษ' 'คอส' 'ร้อย' 'หาร' 'เอ็กซ์' 'คอส' 'เอ็กซ์' 'สิบ' 'สิบ'\n",
      " 'เอ็ด' 'แทน' 'ไซน์' 'เอ็กซ์' 'เจ็ด' 'สิบ' 'เศษ' 'เอ็กซ์' 'ไซน์' 'เอ็กซ์'\n",
      " 'เอ็ด' 'สิบ' 'เอ็กซ์' 'คอส' 'แทน' 'เจ็ด' 'สิบ' 'ศูนย์' 'คอส' 'หนึ่ง'\n",
      " 'เจ็ด' 'สิบ' 'ส่วน' 'คอส' 'เอ็กซ์' 'เจ็ด' 'เอ็กซ์' 'เอ็ด' 'คอส' 'เอ็กซ์'\n",
      " 'หก' 'สิบ' 'แทน' 'คอส' 'แทน' 'เจ็ด' 'แซด' 'เอ็กซ์' 'คอส' 'เอ็กซ์' 'หก'\n",
      " 'สิบ' 'เอ็กซ์' 'ไซน์' 'สี่' 'เอ็กซ์' 'สิบ' 'แทน' 'คอส' 'เอ็กซ์' 'หก'\n",
      " 'สิบ' 'เอ็ด' 'คอส' 'แทน' 'เศษ' 'สิบ' 'คอส' 'วาย' 'เศษ' 'ส่วน' 'สิบ' 'แปด'\n",
      " 'วาย' 'เศษ' 'หก' 'สิบ' 'คอส' 'วาย' 'เอ็กซ์' 'เอ็ด' 'สิบ' 'เอ็ด' 'คูณ'\n",
      " 'เอ็กซ์' 'สิบ' 'เอ็ด' 'คูณ' 'หนึ่ง' 'วาย' 'บวก' 'ไซน์' 'เก้า' 'ลบ' 'คอส'\n",
      " 'สอง' 'เอ็ด' 'แทน' 'คอส' 'เอ็ด' 'ห้า' 'หก' 'ลบ' 'แทน' 'ลบ' 'เจ็ด' 'วาย'\n",
      " 'บวก' 'เอ็ด' 'ร้อย' 'เจ็ด' 'ไซน์' 'ไซน์' 'เอ็ด' 'ห้า' 'วาย' 'เอ็ด' 'ไซน์'\n",
      " 'วาย' 'เอ็กซ์' 'ไซน์' 'หาร' 'เศษ' 'ไซน์' 'แปด' 'ไซน์' 'สิบ' 'เศษ' 'หาร'\n",
      " 'ไซน์' 'ร้อย' 'ไซน์' 'วาย' 'บวก' 'ร้อย' 'เท่ากับ' 'เอ็ด' 'ส่วน' 'คูณ'\n",
      " 'แปด' 'หก' 'เอ็ด' 'หาร' 'คูณ' 'ไซน์' 'ส่วน' 'ยี่' 'หาร' 'คูณ' 'ส่วน'\n",
      " 'คอส' 'เอ็กซ์' 'ไซน์' 'สิบ' 'ไซน์' 'ลบ' 'สี่' 'ส่วน' 'หก' 'ไซน์' 'หก'\n",
      " 'เอ็ด' 'ส่วน' 'สิบ' 'สาม' 'วาย' 'เศษ' 'แซด' 'คอส' 'วาย' 'บวก' 'ไซน์'\n",
      " 'เท่ากับ' 'ส่วน' 'เท่ากับ' 'เอ็ด' 'บวก' 'เอ็ด' 'ร้อย' 'สิบ' 'หาร' 'หก'\n",
      " 'สาม' 'คอส' 'หาร' 'เก้า' 'สาม' 'สาม' 'ไซน์' 'สอง' 'ร้อย' 'หาร' 'ร้อย'\n",
      " 'เก้า' 'หาร' 'เก้า' 'วาย' 'แปด' 'วาย' 'แปด' 'วาย' 'ไซน์' 'สาม' 'ไซน์'\n",
      " 'เศษ' 'เอ็กซ์' 'แปด' 'เอ็กซ์' 'เอ็ด' 'แซด' 'แปด' 'แซด' 'แทน' 'เอ็กซ์'\n",
      " 'ยี่' 'บวก' 'แปด' 'คอส' 'แทน' 'หก' 'เศษ' 'ห้า' 'เอ็ด']\n"
     ]
    }
   ],
   "source": [
    "finalCon = []\n",
    "final_2nd = []\n",
    "final_3rd = []\n",
    "for i in range(len(sampleCon)):\n",
    "    #print(\"Sample\",i+1)\n",
    "    rank = []\n",
    "    array = sampleCon[i]\n",
    "    worddict = commands\n",
    "    for i in range(len(sampleCon[i])):\n",
    "        max = np.argmax(array)\n",
    "        result = worddict[int(max)]\n",
    "        array = np.delete(array,int(max))\n",
    "        worddict = np.delete(worddict,int(max))\n",
    "        rank = np.append(rank,result)\n",
    "        #print(max)\n",
    "        #print(\"Candidate\",i+1)\n",
    "        #print(result)\n",
    "    #print(rank)\n",
    "        #print(array)\n",
    "    finalCon = np.append(finalCon,rank[0])\n",
    "    final_2nd = np.append(final_2nd,rank[1])\n",
    "    final_3rd = np.append(final_3rd,rank[2])\n",
    "\n",
    "print(\"Predict\",finalCon)\n",
    "print(\"2nd rank\",final_2nd)\n",
    "print(\"3rd rank\",final_3rd)"
   ]
  },
  {
   "cell_type": "code",
   "execution_count": 208,
   "metadata": {},
   "outputs": [
    {
     "name": "stdout",
     "output_type": "stream",
     "text": [
      "Test set accuracy: 64.89%\n"
     ]
    }
   ],
   "source": [
    "y_predEq = finalCon\n",
    "y_trueEq = label_n\n",
    "\n",
    "test_accEq = sum(y_predEq == y_trueEq) / len(y_trueEq)\n",
    "print(f'Test set accuracy: {test_accEq:.02%}')"
   ]
  },
  {
   "cell_type": "code",
   "execution_count": 209,
   "metadata": {},
   "outputs": [
    {
     "name": "stdout",
     "output_type": "stream",
     "text": [
      "Test set accuracy: 84%\n"
     ]
    }
   ],
   "source": [
    "#test 1st+2nd rank\n",
    "test_accEq2 = (sum(y_predEq == y_trueEq)+ sum(final_2nd == y_trueEq))/ len(y_trueEq)\n",
    "print(f'Test set accuracy: {test_accEq2:.0%}')"
   ]
  },
  {
   "cell_type": "code",
   "execution_count": 210,
   "metadata": {},
   "outputs": [
    {
     "name": "stdout",
     "output_type": "stream",
     "text": [
      "Test set accuracy: 91%\n"
     ]
    }
   ],
   "source": [
    "#test 1st+2nd+3rd rank\n",
    "test_accEq3 = (sum(y_predEq == y_trueEq) + sum(final_2nd == y_trueEq) + sum(final_3rd == y_trueEq))/ len(y_trueEq)\n",
    "print(f'Test set accuracy: {test_accEq3:.0%}')"
   ]
  },
  {
   "cell_type": "code",
   "execution_count": null,
   "metadata": {},
   "outputs": [],
   "source": [
    "samples = tf.io.gfile.glob(str(\"D:\\\\speech recog\\\\testttt\\\\T4Acut*.wav\"))\n",
    "num_samples = len(samples)\n",
    "print(samples)\n",
    "print(num_samples)"
   ]
  },
  {
   "cell_type": "code",
   "execution_count": 37,
   "metadata": {
    "scrolled": true
   },
   "outputs": [
    {
     "name": "stdout",
     "output_type": "stream",
     "text": [
      "หาร\n",
      "ร้อย\n",
      "สิบ\n",
      "เก้า\n",
      "บวก\n",
      "เก้า\n",
      "สิบ\n",
      "สิบ\n",
      "บวก\n",
      "เอ็กซ์\n",
      "สิบ\n",
      "สิบ\n",
      "ลบ\n",
      "เอ็ด\n",
      "สิบ\n",
      "สิบ\n",
      "หารร้อยสิบเก้าบวกเก้าสิบสิบบวกเอ็กซ์สิบสิบลบเอ็ดสิบสิบ\n"
     ]
    }
   ],
   "source": [
    "final = []\n",
    "for i in range(num_samples):\n",
    "    sample_file = samples[i]\n",
    "    \n",
    "    sample_ds = preprocess_dataset([str(sample_file)])\n",
    "    \n",
    "\n",
    "    for spectrogram, label in sample_ds.batch(1):\n",
    "        prediction = model(spectrogram)\n",
    "        #plt.bar(commands, tf.nn.softmax(prediction[0]))\n",
    "        #plt.show\n",
    "        pred = tf.nn.softmax(prediction[0])\n",
    "        #print(pred)\n",
    "        #print(np.max(pred))\n",
    "        \n",
    "    for i in range(len(commands)):     \n",
    "        if pred[i]==np.max(pred):\n",
    "            result = commands[i]\n",
    "            print(result)\n",
    "            final = np.append(final,result)\n",
    "\n",
    "i=0\n",
    "sen= str(final[0])\n",
    "while i<=num_samples-2:\n",
    "    sen = sen+str(final[i+1])\n",
    "    i+=1\n",
    "print(sen)"
   ]
  }
 ],
 "metadata": {
  "kernelspec": {
   "display_name": "Python 3 (ipykernel)",
   "language": "python",
   "name": "python3"
  },
  "language_info": {
   "codemirror_mode": {
    "name": "ipython",
    "version": 3
   },
   "file_extension": ".py",
   "mimetype": "text/x-python",
   "name": "python",
   "nbconvert_exporter": "python",
   "pygments_lexer": "ipython3",
   "version": "3.8.5"
  }
 },
 "nbformat": 4,
 "nbformat_minor": 4
}
