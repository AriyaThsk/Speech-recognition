{
 "cells": [
  {
   "cell_type": "code",
   "execution_count": 1,
   "id": "df1cdb1c",
   "metadata": {},
   "outputs": [],
   "source": [
    "import os\n",
    "import numpy as np\n",
    "import scipy\n",
    "from scipy.io import wavfile\n",
    "import scipy.fftpack as fft\n",
    "from scipy.signal import get_window\n",
    "import IPython.display as ipd\n",
    "import matplotlib.pyplot as plt\n",
    "import pathlib\n",
    "import tensorflow as tf\n",
    "import pandas as pd\n",
    "import librosa\n",
    "from IPython import display\n",
    "\n",
    "from keras.models import Sequential\n",
    "from keras.layers import Dense, Dropout, Flatten, Conv2D, MaxPooling2D\n",
    "from tensorflow.keras.utils import to_categorical\n",
    "from keras import optimizers"
   ]
  },
  {
   "cell_type": "code",
   "execution_count": 2,
   "id": "bd8135d5",
   "metadata": {},
   "outputs": [],
   "source": [
    "data_dir = pathlib.Path(\"D:\\\\speech recog\\\\train set2\")"
   ]
  },
  {
   "cell_type": "code",
   "execution_count": 3,
   "id": "81de73ff",
   "metadata": {},
   "outputs": [
    {
     "name": "stdout",
     "output_type": "stream",
     "text": [
      "words_list: ['คอส' 'คูณ' 'บวก' 'ยกกำลัง' 'ยี่' 'ร้อย' 'ลบ' 'วาย' 'ศูนย์' 'สอง' 'สาม'\n",
      " 'สิบ' 'สี่' 'ส่วน' 'หก' 'หนึ่ง' 'หาร' 'ห้า' 'เก้า' 'เจ็ด' 'เท่ากับ' 'เศษ'\n",
      " 'เอ็กซ์' 'เอ็ด' 'แซด' 'แทน' 'แปด' 'ไซน์']\n"
     ]
    }
   ],
   "source": [
    "words_list = np.array(tf.io.gfile.listdir(str(data_dir)))\n",
    "print('words_list:', words_list)"
   ]
  },
  {
   "cell_type": "code",
   "execution_count": 4,
   "id": "0ad05750",
   "metadata": {},
   "outputs": [
    {
     "name": "stdout",
     "output_type": "stream",
     "text": [
      "Number of total examples: 4480\n",
      "Number of examples per label: 160\n",
      "Example file tensor: D:\\speech recog\\train set2\\คอส\\cos200cut100.wav\n"
     ]
    }
   ],
   "source": [
    "file = tf.io.gfile.glob(str(data_dir) + '/*/*')\n",
    "num_samples = len(file)\n",
    "print('Number of total examples:', num_samples)\n",
    "print('Number of examples per label:',\n",
    "      len(tf.io.gfile.listdir(str(data_dir/words_list[0]))))\n",
    "print('Example file tensor:', file[0])"
   ]
  },
  {
   "cell_type": "code",
   "execution_count": 5,
   "id": "55246746",
   "metadata": {},
   "outputs": [
    {
     "name": "stdout",
     "output_type": "stream",
     "text": [
      "Training set size 4480\n",
      "Validation set size 560\n",
      "Test set size 840\n"
     ]
    }
   ],
   "source": [
    "testfiles = pathlib.Path(\"D:\\\\speech recog\\\\test set\")\n",
    "testfiles = tf.io.gfile.glob(str(testfiles) + '/*/*')\n",
    "\n",
    "valfiles = pathlib.Path(\"D:\\\\speech recog\\\\validation\")\n",
    "valfiles = tf.io.gfile.glob(str(valfiles) + '/*/*')\n",
    "\n",
    "train_files = file\n",
    "val_files = valfiles\n",
    "test_files = testfiles\n",
    "\n",
    "print('Training set size', len(train_files))\n",
    "print('Validation set size', len(val_files))\n",
    "print('Test set size', len(test_files))"
   ]
  },
  {
   "cell_type": "code",
   "execution_count": 6,
   "id": "df29e4ff",
   "metadata": {},
   "outputs": [],
   "source": [
    "def wav2mfcc(waveform):\n",
    "\n",
    "    input_len = 217413\n",
    "    waveform = waveform[:input_len]\n",
    "    zero_padding = tf.zeros([217413] - tf.shape(waveform),dtype=tf.float32)\n",
    "    #zero_padding = np.array(zero_padding,np.float32)\n",
    "  # Cast the waveform tensors' dtype to float32.\n",
    "    waveform = tf.cast(waveform, dtype=tf.float32)\n",
    "    #waveform = np.array(waveform, np.float32)\n",
    "  # Concatenate the waveform with `zero_padding`, which ensures all audio\n",
    "  # clips are of the same length.\n",
    "    equal_length = tf.concat([waveform, zero_padding], 0)    \n",
    "    equal_length = np.array(equal_length, np.float32)\n",
    "    \n",
    "    mfcc = librosa.feature.mfcc(equal_length)\n",
    "    #mfcc = tf.convert_to_tensor(mfcc, dtype=tf.float32)\n",
    "    \n",
    "    return mfcc"
   ]
  },
  {
   "cell_type": "code",
   "execution_count": 7,
   "id": "0b375718",
   "metadata": {},
   "outputs": [],
   "source": [
    "def decode_audio(audio_binary):\n",
    "    audio, _ = tf.audio.decode_wav(audio_binary)\n",
    "    return tf.squeeze(audio, axis=-1)"
   ]
  },
  {
   "cell_type": "code",
   "execution_count": 8,
   "id": "1e8cb9a5",
   "metadata": {},
   "outputs": [],
   "source": [
    "def get_label(file_path):\n",
    "    parts = tf.strings.split(file_path, os.path.sep)\n",
    "\n",
    "  # Note: You'll use indexing here instead of tuple unpacking to enable this \n",
    "  # to work in a TensorFlow graph.\n",
    "    return parts[-2]"
   ]
  },
  {
   "cell_type": "code",
   "execution_count": 9,
   "id": "35dc07a6",
   "metadata": {},
   "outputs": [],
   "source": [
    "def get_waveform_and_label(file_path):\n",
    "    label = get_label(file_path)\n",
    "    audio_binary = tf.io.read_file(file_path)\n",
    "    waveform = decode_audio(audio_binary)\n",
    "    return waveform, label"
   ]
  },
  {
   "cell_type": "code",
   "execution_count": null,
   "id": "adcc58a0",
   "metadata": {},
   "outputs": [],
   "source": [
    "get_waveform_and_label(val_files[3])"
   ]
  },
  {
   "cell_type": "code",
   "execution_count": 10,
   "id": "f8d428f5",
   "metadata": {},
   "outputs": [],
   "source": [
    "AUTOTUNE = tf.data.AUTOTUNE\n",
    "files_ds = tf.data.Dataset.from_tensor_slices(train_files)\n",
    "waveform_ds = files_ds.map(get_waveform_and_label, num_parallel_calls=AUTOTUNE)"
   ]
  },
  {
   "cell_type": "code",
   "execution_count": null,
   "id": "89d3cd7a",
   "metadata": {},
   "outputs": [],
   "source": [
    "np.array(waveform_ds)"
   ]
  },
  {
   "cell_type": "code",
   "execution_count": 11,
   "id": "aee90df3",
   "metadata": {},
   "outputs": [],
   "source": [
    "def get_mfcc_and_label_id(audio, label):\n",
    "    #audio = np.array(audio, np.float32)\n",
    "    mfcc = wav2mfcc(audio)\n",
    "    mfcc = tf.expand_dims(mfcc, -1)\n",
    "    label_id = tf.argmax(label == words_list)\n",
    "    return mfcc, label_id"
   ]
  },
  {
   "cell_type": "code",
   "execution_count": null,
   "id": "a3be3ce5",
   "metadata": {},
   "outputs": [],
   "source": [
    "waveform_ds"
   ]
  },
  {
   "cell_type": "code",
   "execution_count": null,
   "id": "43700703",
   "metadata": {},
   "outputs": [],
   "source": [
    "X = []\n",
    "y = []\n",
    "\n",
    "def append_X_Y(label, wave):\n",
    "    label = tf.argmax(label == words_list)\n",
    "    y.append(label)\n",
    "    mfcc = wav2mfcc(wave)\n",
    "    X.append(mfcc)\n",
    "    \n",
    "for waveform, label in waveform_ds:\n",
    "    append_X_Y(label, waveform)"
   ]
  },
  {
   "cell_type": "code",
   "execution_count": null,
   "id": "276a4aca",
   "metadata": {},
   "outputs": [],
   "source": [
    "def append_X_Y_test(label, wave):\n",
    "    label = tf.argmax(label == words_list)\n",
    "    y_test.append(label)\n",
    "    mfcc = wav2mfcc(wave)\n",
    "    X_test.append(mfcc)\n",
    "    \n",
    "def append_X_Y_val(label, wave):\n",
    "    label = tf.argmax(label == words_list)\n",
    "    y_val.append(label)\n",
    "    mfcc = wav2mfcc(wave)\n",
    "    X_val.append(mfcc)"
   ]
  },
  {
   "cell_type": "code",
   "execution_count": null,
   "id": "e33668c4",
   "metadata": {},
   "outputs": [],
   "source": [
    "def processtest(files):\n",
    "    files_ds = tf.data.Dataset.from_tensor_slices(files)\n",
    "    output_ds = files_ds.map(\n",
    "        map_func=get_waveform_and_label,\n",
    "        num_parallel_calls=AUTOTUNE)\n",
    "    return output_ds\n",
    "\n",
    "test_dt = processtest(test_files)\n",
    "\n",
    "def processval(files):\n",
    "    files_ds = tf.data.Dataset.from_tensor_slices(files)\n",
    "    output_ds = files_ds.map(\n",
    "        map_func=get_waveform_and_label,\n",
    "        num_parallel_calls=AUTOTUNE)\n",
    "    return output_ds\n",
    "\n",
    "val_dt = processval(val_files)"
   ]
  },
  {
   "cell_type": "code",
   "execution_count": 12,
   "id": "4f9a59b0",
   "metadata": {},
   "outputs": [],
   "source": [
    "def process_pred(files):\n",
    "    files_ds = tf.data.Dataset.from_tensor_slices(files)\n",
    "    output_ds = files_ds.map(\n",
    "        map_func=get_waveform_and_label,\n",
    "        num_parallel_calls=AUTOTUNE)\n",
    "    return output_ds\n",
    "\n",
    "#for_pred = process_pred()"
   ]
  },
  {
   "cell_type": "code",
   "execution_count": null,
   "id": "1c527ae9",
   "metadata": {},
   "outputs": [],
   "source": [
    "X_test = []\n",
    "y_test = []\n",
    "\n",
    "for waveform, label in test_dt:\n",
    "    append_X_Y_test(label, waveform)\n",
    "\n",
    "X_val = []\n",
    "y_val = []\n",
    "\n",
    "for waveform, label in val_dt:\n",
    "    append_X_Y_val(label, waveform)"
   ]
  },
  {
   "cell_type": "code",
   "execution_count": null,
   "id": "0809e92a",
   "metadata": {},
   "outputs": [],
   "source": [
    "X = np.array(X)\n",
    "y = np.array(y)\n",
    "X.shape[0] == len(y)"
   ]
  },
  {
   "cell_type": "code",
   "execution_count": null,
   "id": "ce6740e5",
   "metadata": {},
   "outputs": [],
   "source": [
    "X_train = X\n",
    "y_train = y"
   ]
  },
  {
   "cell_type": "code",
   "execution_count": null,
   "id": "878df9ab",
   "metadata": {},
   "outputs": [],
   "source": [
    "X_train = np.asarray(X_train).astype(np.float32)\n",
    "y_train = np.asarray(y_train).astype(np.float32)"
   ]
  },
  {
   "cell_type": "code",
   "execution_count": null,
   "id": "c7d2ff62",
   "metadata": {},
   "outputs": [],
   "source": [
    "X_test = np.array(X_test)\n",
    "y_test = np.array(y_test)\n",
    "\n",
    "X_val = np.array(X_val)\n",
    "y_val = np.array(y_val)"
   ]
  },
  {
   "cell_type": "code",
   "execution_count": null,
   "id": "f73bcf53",
   "metadata": {},
   "outputs": [],
   "source": [
    "X_test = np.asarray(X_test).astype(np.float32)\n",
    "y_test = np.asarray(y_test).astype(np.float32)\n",
    "\n",
    "X_val = np.asarray(X_val).astype(np.float32)\n",
    "y_val = np.asarray(y_val).astype(np.float32)"
   ]
  },
  {
   "cell_type": "code",
   "execution_count": null,
   "id": "5efb7db2",
   "metadata": {},
   "outputs": [],
   "source": [
    "X.shape"
   ]
  },
  {
   "cell_type": "code",
   "execution_count": null,
   "id": "5be8334f",
   "metadata": {},
   "outputs": [],
   "source": [
    "X_val.shape"
   ]
  },
  {
   "cell_type": "code",
   "execution_count": null,
   "id": "b82689e3",
   "metadata": {
    "scrolled": true
   },
   "outputs": [],
   "source": [
    "#get_mfcc_and_label_id(audio, label)\n",
    "for waveform, label in waveform_ds.take(10):\n",
    "    #label = label.numpy().decode('utf-8')\n",
    "    A = get_mfcc_and_label_id(waveform, label)\n",
    "    label_id = tf.argmax(label == words_list)\n",
    "\n",
    "    \n",
    "    print(A)\n",
    "    #print(len(A))\n",
    "    print(\"Label: \",label)\n",
    "    print(\"Label id: \",label_id)"
   ]
  },
  {
   "cell_type": "code",
   "execution_count": 13,
   "id": "dd36bae1",
   "metadata": {},
   "outputs": [],
   "source": [
    "batch_size = 100\n",
    "epochs = 30\n",
    "verbose = 1\n",
    "channel=1\n",
    "\n",
    "feature_dim_1 = 20\n",
    "feature_dim_2 = 425"
   ]
  },
  {
   "cell_type": "code",
   "execution_count": null,
   "id": "d56cb286",
   "metadata": {},
   "outputs": [],
   "source": [
    "batch_size = 100\n",
    "epochs = 30\n",
    "verbose = 1\n",
    "channel=1\n",
    "\n",
    "feature_dim_1 = 20\n",
    "feature_dim_2 = 425\n",
    "\n",
    "X_train = X_train.reshape(X_train.shape[0], feature_dim_1, feature_dim_2, channel)\n",
    "X_val = X_val.reshape(X_val.shape[0], feature_dim_1, feature_dim_2, channel)"
   ]
  },
  {
   "cell_type": "code",
   "execution_count": null,
   "id": "78548434",
   "metadata": {},
   "outputs": [],
   "source": [
    "X_train.shape"
   ]
  },
  {
   "cell_type": "markdown",
   "id": "dc38bb64",
   "metadata": {},
   "source": [
    "Model Training"
   ]
  },
  {
   "cell_type": "code",
   "execution_count": null,
   "id": "019724fd",
   "metadata": {},
   "outputs": [],
   "source": [
    "num_labels = len(words_list)\n",
    "def get_model():\n",
    "    model = Sequential()\n",
    "    model.add(Conv2D(32, kernel_size=(2, 2), activation='relu', input_shape=(feature_dim_1, feature_dim_2, channel)))\n",
    "    model.add(Conv2D(48, kernel_size=(2, 2), activation='relu'))\n",
    "    model.add(Conv2D(120, kernel_size=(2, 2), activation='relu'))\n",
    "    model.add(MaxPooling2D(pool_size=(2, 2)))\n",
    "    model.add(Dropout(0.25))\n",
    "    model.add(Flatten())\n",
    "    model.add(Dense(128, activation='relu'))\n",
    "    model.add(Dropout(0.25))\n",
    "    model.add(Dense(64, activation='relu'))\n",
    "    model.add(Dropout(0.4))\n",
    "    model.add(Dense(num_labels, activation='softmax'))\n",
    "    return model"
   ]
  },
  {
   "cell_type": "code",
   "execution_count": null,
   "id": "9593a54a",
   "metadata": {
    "scrolled": false
   },
   "outputs": [],
   "source": [
    "model = get_model()\n",
    "\n",
    "optimizer = tf.keras.optimizers.Adam()\n",
    "# optimizer = optimizers.Adagrad(lr=0.01, epsilon=None, decay=0.0)\n",
    "\n",
    "model.compile(loss=tf.keras.losses.SparseCategoricalCrossentropy(from_logits=True),\n",
    "              optimizer=optimizer,\n",
    "              metrics=['accuracy'])\n",
    "model.fit(X_train, y_train, batch_size=batch_size, epochs=epochs, verbose=verbose, validation_data=(X_val, y_val))"
   ]
  },
  {
   "cell_type": "code",
   "execution_count": null,
   "id": "45d3e794",
   "metadata": {},
   "outputs": [],
   "source": [
    "#model.save(\"model_MFCCfinal1.h5\") "
   ]
  },
  {
   "cell_type": "code",
   "execution_count": 14,
   "id": "5383a489",
   "metadata": {},
   "outputs": [],
   "source": [
    "from keras.models import load_model\n",
    "model = load_model('model_MFCCfinal1.h5')"
   ]
  },
  {
   "cell_type": "code",
   "execution_count": null,
   "id": "752e97f6",
   "metadata": {
    "scrolled": false
   },
   "outputs": [],
   "source": [
    "model.summary()"
   ]
  },
  {
   "cell_type": "code",
   "execution_count": null,
   "id": "5e4b5190",
   "metadata": {},
   "outputs": [],
   "source": [
    "X_test =X_test.reshape(X_test.shape[0], feature_dim_1, feature_dim_2, channel)"
   ]
  },
  {
   "cell_type": "code",
   "execution_count": null,
   "id": "99a2d1ad",
   "metadata": {},
   "outputs": [],
   "source": [
    "y_pred = np.argmax(model.predict(X_test), axis=1)\n",
    "y_true = y_test\n",
    "\n",
    "test_acc = sum(y_pred == y_true) / len(y_true)\n",
    "print(f'Test set accuracy: {test_acc:.0%}')"
   ]
  },
  {
   "cell_type": "code",
   "execution_count": null,
   "id": "8c6fd7b4",
   "metadata": {},
   "outputs": [],
   "source": [
    "y_label = []\n",
    "for i in range(len(y_true)):\n",
    "    label = words_list[int(y_true[i])]\n",
    "    y_label = np.append(y_label,label)"
   ]
  },
  {
   "cell_type": "code",
   "execution_count": null,
   "id": "5deb1991",
   "metadata": {},
   "outputs": [],
   "source": [
    "ypred_label = []\n",
    "for i in range(len(y_pred)):\n",
    "    label = words_list[int(y_pred[i])]\n",
    "    ypred_label = np.append(ypred_label,label)"
   ]
  },
  {
   "cell_type": "code",
   "execution_count": null,
   "id": "af0a62bc",
   "metadata": {},
   "outputs": [],
   "source": [
    "ypred_label"
   ]
  },
  {
   "cell_type": "code",
   "execution_count": null,
   "id": "70d572ec",
   "metadata": {},
   "outputs": [],
   "source": [
    "wrong_pred = []\n",
    "for i in range(len(y_label)):\n",
    "    if ypred_label[i]!= y_label[i]:\n",
    "        wrong_pred = np.append(wrong_pred,y_label[i])"
   ]
  },
  {
   "cell_type": "code",
   "execution_count": 33,
   "id": "312a8f45",
   "metadata": {
    "scrolled": true
   },
   "outputs": [
    {
     "name": "stdout",
     "output_type": "stream",
     "text": [
      "['D:\\\\speech recog\\\\train set2\\\\เก้า\\\\nine (1).wav']\n",
      "1\n"
     ]
    }
   ],
   "source": [
    "samples = tf.io.gfile.glob(str(\"D:\\\\speech recog\\\\train set2\\เก้า\\\\nine (1).wav\"))\n",
    "num_samples = len(samples)\n",
    "print(samples)\n",
    "print(num_samples)"
   ]
  },
  {
   "cell_type": "code",
   "execution_count": 34,
   "id": "9629120a",
   "metadata": {},
   "outputs": [],
   "source": [
    "test = []\n",
    "testCon = []\n",
    "def process_pred(files):\n",
    "    files_ds = tf.data.Dataset.from_tensor_slices(files)\n",
    "    output_ds = files_ds.map(\n",
    "        map_func=get_waveform_and_label,\n",
    "        num_parallel_calls=AUTOTUNE)\n",
    "    return output_ds\n",
    "\n",
    "\n",
    "def append_X(wave):\n",
    "    mfcc = wav2mfcc(wave)\n",
    "    test.append(mfcc)\n",
    "\n",
    "def append_Xcon(wave):\n",
    "    mfcc = wav2mfcc(wave)\n",
    "    testCon.append(mfcc)    "
   ]
  },
  {
   "cell_type": "code",
   "execution_count": 468,
   "id": "8e60137a",
   "metadata": {},
   "outputs": [],
   "source": [
    "import pandas as pd\n",
    "\n",
    "df_test = pd.read_csv('testaccequation.csv')\n",
    "\n",
    "file_n = df_test['file_location'].values.tolist()\n",
    "label_n = df_test['label'].values.tolist()"
   ]
  },
  {
   "cell_type": "code",
   "execution_count": 35,
   "id": "f684e810",
   "metadata": {},
   "outputs": [
    {
     "name": "stdout",
     "output_type": "stream",
     "text": [
      "<ParallelMapDataset shapes: ((None,), ()), types: (tf.float32, tf.string)>\n"
     ]
    }
   ],
   "source": [
    "sample_ds=process_pred(samples)\n",
    "print(sample_ds)"
   ]
  },
  {
   "cell_type": "code",
   "execution_count": 469,
   "id": "1a111103",
   "metadata": {},
   "outputs": [
    {
     "name": "stdout",
     "output_type": "stream",
     "text": [
      "<ParallelMapDataset shapes: ((None,), ()), types: (tf.float32, tf.string)>\n"
     ]
    }
   ],
   "source": [
    "sampleCon_ds=process_pred(file_n)\n",
    "print(sampleCon_ds)"
   ]
  },
  {
   "cell_type": "code",
   "execution_count": 36,
   "id": "4f220f26",
   "metadata": {},
   "outputs": [],
   "source": [
    "for waveform, label in sample_ds:\n",
    "    append_X(waveform)"
   ]
  },
  {
   "cell_type": "code",
   "execution_count": null,
   "id": "deb08839",
   "metadata": {},
   "outputs": [],
   "source": [
    "for waveform, label in sampleCon_ds:\n",
    "    append_Xcon(waveform)"
   ]
  },
  {
   "cell_type": "code",
   "execution_count": 40,
   "id": "cd29915f",
   "metadata": {},
   "outputs": [
    {
     "data": {
      "text/plain": [
       "(1, 20, 425)"
      ]
     },
     "execution_count": 40,
     "metadata": {},
     "output_type": "execute_result"
    }
   ],
   "source": [
    "test.shape"
   ]
  },
  {
   "cell_type": "code",
   "execution_count": null,
   "id": "91ef0af2",
   "metadata": {},
   "outputs": [],
   "source": [
    "test[1].shape"
   ]
  },
  {
   "cell_type": "code",
   "execution_count": 37,
   "id": "06a434f3",
   "metadata": {},
   "outputs": [],
   "source": [
    "test = np.array(test)\n",
    "testCon = np.array(testCon)"
   ]
  },
  {
   "cell_type": "code",
   "execution_count": 502,
   "id": "60ce686b",
   "metadata": {},
   "outputs": [],
   "source": [
    "test = np.asarray(test).astype(np.float32)\n",
    "testCon = np.asarray(testCon).astype(np.float32)"
   ]
  },
  {
   "cell_type": "code",
   "execution_count": null,
   "id": "3d92c444",
   "metadata": {},
   "outputs": [],
   "source": [
    "test.shape"
   ]
  },
  {
   "cell_type": "code",
   "execution_count": null,
   "id": "2408b753",
   "metadata": {
    "scrolled": false
   },
   "outputs": [],
   "source": [
    "type(test)"
   ]
  },
  {
   "cell_type": "code",
   "execution_count": null,
   "id": "94c9611a",
   "metadata": {},
   "outputs": [],
   "source": [
    "testCon.shape"
   ]
  },
  {
   "cell_type": "code",
   "execution_count": 30,
   "id": "350e4823",
   "metadata": {},
   "outputs": [],
   "source": [
    "test = test.reshape(test.shape[0], feature_dim_1, feature_dim_2, channel)\n",
    "testCon = testCon.reshape(testCon.shape[0], feature_dim_1, feature_dim_2, channel)"
   ]
  },
  {
   "cell_type": "code",
   "execution_count": 32,
   "id": "2ceab982",
   "metadata": {},
   "outputs": [
    {
     "data": {
      "text/plain": [
       "(1, 20, 425, 1)"
      ]
     },
     "execution_count": 32,
     "metadata": {},
     "output_type": "execute_result"
    }
   ],
   "source": [
    "test.shape"
   ]
  },
  {
   "cell_type": "code",
   "execution_count": null,
   "id": "971d9235",
   "metadata": {},
   "outputs": [],
   "source": [
    "sampletest = np.argmax(model.predict(test), axis=1)\n",
    "sampletest"
   ]
  },
  {
   "cell_type": "code",
   "execution_count": null,
   "id": "f32c17fe",
   "metadata": {
    "scrolled": true
   },
   "outputs": [],
   "source": [
    "sampleretest = model.predict(test)\n",
    "#sampleretest"
   ]
  },
  {
   "cell_type": "code",
   "execution_count": 474,
   "id": "e1694d73",
   "metadata": {},
   "outputs": [],
   "source": [
    "sampleCon = model.predict(testCon)"
   ]
  },
  {
   "cell_type": "code",
   "execution_count": null,
   "id": "55902c63",
   "metadata": {
    "scrolled": true
   },
   "outputs": [],
   "source": [
    "finalre = []\n",
    "\n",
    "for i in range(len(sampleretest)):\n",
    "    print(\"Candidate ranking of audio segment\",i+1)\n",
    "    rank = []\n",
    "    array = sampleretest[i]\n",
    "    worddict = words_list\n",
    "    for i in range(len(sampleretest[i])):\n",
    "        max = np.argmax(array)\n",
    "        result = worddict[int(max)]\n",
    "        array = np.delete(array,int(max))\n",
    "        worddict = np.delete(worddict,int(max))\n",
    "        rank = np.append(rank,result)\n",
    "        #print(max)\n",
    "        #print(\"Candidate\",i+1)\n",
    "        #print(result)\n",
    "    print(rank)\n",
    "        #print(array)\n",
    "    finalre = np.append(finalre,rank[0])\n",
    "\n",
    "\n",
    "#print(\"Predict\",finalre)\n",
    "    \n",
    "i=0\n",
    "sen= str(finalre[0])\n",
    "while i<=num_samples-2:\n",
    "    sen = sen+str(finalre[i+1])\n",
    "    i+=1\n",
    "print(\"Predict\",sen)"
   ]
  },
  {
   "cell_type": "code",
   "execution_count": 475,
   "id": "1c57b35f",
   "metadata": {
    "scrolled": true
   },
   "outputs": [
    {
     "name": "stdout",
     "output_type": "stream",
     "text": [
      "Predict ['เจ็ด' 'ร้อย' 'สอง' 'ลบ' 'สี่' 'สิบ' 'สาม' 'ลบ' 'เก้า' 'สิบ' 'เจ็ด' 'บวก'\n",
      " 'สิบ' 'เจ็ด' 'แปด' 'สิบ' 'ห้า' 'บวก' 'สิบ' 'แปด' 'ลบ' 'เจ็ด' 'สิบ' 'เจ็ด'\n",
      " 'ลบ' 'แปด' 'เจ็ด' 'สิบ' 'เก้า' 'ลบ' 'สี่' 'สิบ' 'สอง' 'ลบ' 'ห้า' 'สิบ'\n",
      " 'แปด' 'บวก' 'หก' 'หก' 'ส่วน' 'สอง' 'ลบ' 'สิบ' 'หก' 'บวก' 'เศษ' 'ส่วน'\n",
      " 'สิบ' 'หก' 'หนึ่ง' 'สอง' 'ลบ' 'สิบ' 'หก' 'บวก' 'เศษ' 'เจ็ด' 'สิบ' 'เจ็ด'\n",
      " 'สิบ' 'แปด' 'บวก' 'เจ็ด' 'สิบ' 'เจ็ด' 'ลบ' 'ห้า' 'สิบ' 'บวก' 'ลบ' 'สิบ'\n",
      " 'สาม' 'เจ็ด' 'สิบ' 'แปด' 'ลบ' 'ไซน์' 'สิบ' 'สี่' 'บวก' 'ส่วน' 'ห้า' 'แปด'\n",
      " 'ร้อย' 'สิบ' 'เก้า' 'บวก' 'เก้า' 'สิบ' 'เจ็ด' 'บวก' 'เศษ' 'เจ็ด' 'สิบ'\n",
      " 'ลบ' 'หก' 'สิบ' 'สิบ' 'แปด' 'ร้อย' 'สิบ' 'เก้า' 'บวก' 'เก้า' 'สิบ' 'สิบ'\n",
      " 'บวก' 'เศษ' 'สิบ' 'สิบ' 'ลบ' 'หก' 'สิบ' 'เจ็ด' 'เจ็ด' 'ร้อย' 'ส่วน' 'สิบ'\n",
      " 'เจ็ด' 'ลบ' 'หก' 'สิบ' 'หก' 'ลบ' 'เก้า' 'บวก' 'สิบ' 'สิบ' 'สี่' 'เอ็กซ์'\n",
      " 'ยี่' 'สอง' 'หนึ่ง' 'สี่' 'สิบ' 'ไซน์' 'หาร' 'แซด' 'เท่ากับ' 'ส่วน' 'ห้า'\n",
      " 'ไซน์' 'ยกกำลัง' 'สอง' 'หก' 'แปด' 'สิบ' 'เจ็ด' 'บวก' 'เอ็กซ์' 'หาร'\n",
      " 'ไซน์' 'ยกกำลัง' 'สี่' 'เท่ากับ' 'สาม' 'สิบ' 'ไซน์' 'หนึ่ง' 'ส่วน' 'สอง'\n",
      " 'บวก' 'เอ็กซ์' 'ยกกำลัง' 'สาม' 'บวก' 'เศษ' 'ยกกำลัง' 'สี่' 'ศูนย์' 'แซด'\n",
      " 'ยกกำลัง' 'ห้า' 'เท่ากับ' 'ห้า' 'สิบ' 'ส่วน' 'แปด' 'ส่วน' 'สาม' 'หาร'\n",
      " 'สี่' 'เอ็กซ์' 'ยกกำลัง' 'สอง' 'หาร' 'เอ็กซ์' 'ยกกำลัง' 'สาม' 'หนึ่ง'\n",
      " 'วาย' 'เท่ากับ' 'เอ็ด' 'สิบ' 'สี่' 'สอง' 'ยกกำลัง' 'สี่' 'ส่วน' 'วาย'\n",
      " 'ยกกำลัง' 'สาม' 'หก' 'สาม' 'สิบ' 'สอง' 'เอ็กซ์' 'เท่ากับ' 'ส่วน' 'เศษ'\n",
      " 'แปด' 'หนึ่ง' 'หก' 'ส่วน' 'สาม' 'ส่วน' 'สอง' 'บวก' 'ส่วน' 'บวก' 'เอ็กซ์'\n",
      " 'ยกกำลัง' 'วาย' 'เท่ากับ' 'แซด' 'บวก' 'ห้า' 'เศษ' 'หก' 'ยี่' 'ยี่' 'ส่วน'\n",
      " 'เอ็ด' 'ส่วน' 'สาม' 'บวก' 'สี่' 'หก' 'ส่วน' 'สาม' 'ส่วน' 'ยี่' 'สี่'\n",
      " 'ส่วน' 'เจ็ด' 'ห้า' 'สี่' 'เศษ' 'ห้า' 'เอ็กซ์' 'เท่ากับ' 'วาย' 'ยี่'\n",
      " 'สี่' 'ส่วน' 'สิบ' 'สอง' 'หก' 'สี่' 'สอง' 'ส่วน' 'สาม' 'เอ็กซ์' 'บวก'\n",
      " 'วาย' 'ยกกำลัง' 'ส่วน' 'ลบ' 'สี่' 'เศษ' 'สิบ' 'แซด' 'ยกกำลัง' 'สาม'\n",
      " 'เท่ากับ' 'เอ็กซ์' 'บวก' 'สิบ' 'แซด' 'เศษ' 'ยี่' 'ส่วน' 'แปด' 'หาร'\n",
      " 'ร้อย' 'ยกกำลัง' 'สอง' 'หนึ่ง' 'สี่' 'สิบ' 'แทน' 'เอ็กซ์' 'บวก' 'สาม'\n",
      " 'ยกกำลัง' 'สี่' 'เท่ากับ' 'หก' 'บวก' 'ศูนย์' 'ลบ' 'สิบ' 'ไซน์' 'เศษ' 'หก'\n",
      " 'ส่วน' 'สิบ' 'บวก' 'สี่' 'แปด' 'ส่วน' 'สาม' 'หาร' 'เศษ' 'หก' 'ส่วน' 'สิบ'\n",
      " 'สอง' 'บวก' 'แซด' 'เท่ากับ' 'ส่วน' 'ศูนย์' 'ยี่' 'ส่วน' 'สิบ' 'ห้า' 'หาร'\n",
      " 'แปด' 'เอ็กซ์' 'บวก' 'ส่วน' 'ลบ' 'ส่วน' 'เท่ากับ' 'ศูนย์' 'ส่วน'\n",
      " 'ยกกำลัง' 'ส่วน' 'บวก' 'ส่วน' 'ยกกำลัง' 'ห้า' 'ลบ' 'ส่วน' 'ยกกำลัง' 'สี่'\n",
      " 'เท่ากับ' 'ส่วน' 'บวก' 'เอ็กซ์' 'บวก' 'วาย' 'ส่วน' 'หก' 'ส่วน' 'หาร'\n",
      " 'ส่วน' 'ลบ' 'ส่วน' 'บวก' 'ส่วน' 'เท่ากับ' 'ส่วน' 'ไซน์' 'เอ็กซ์' 'ส่วน'\n",
      " 'วาย' 'บวก' 'คอส' 'แซด' 'ยกกำลัง' 'ส่วน' 'บวก' 'ยี่' 'ส่วน' 'เอ็ด' 'บวก'\n",
      " 'ยี่' 'ส่วน' 'เอ็ด' 'ห้า' 'ส่วน' 'ไซน์' 'ไซน์' 'ยกกำลัง' 'สอง' 'บวก'\n",
      " 'ไซน์' 'เอ็กซ์' 'ส่วน' 'แซด' 'บวก' 'ยี่' 'เศษ' 'เอ็ด' 'บวก' 'ยี่' 'สิบ'\n",
      " 'เอ็ด' 'ห้า' 'ยี่' 'สิบ' 'เอ็ด' 'เท่ากับ' 'ส่วน' 'ห้า' 'เอ็กซ์' 'บวก'\n",
      " 'แทน' 'ไซน์' 'บวก' 'ไซน์' 'เอ็กซ์' 'เท่ากับ' 'เอ็กซ์' 'บวก' 'ไซน์' 'ห้า'\n",
      " 'หนึ่ง' 'ร้อย' 'ยี่' 'เศษ' 'เอ็ด' 'หาร' 'หนึ่ง' 'ร้อย' 'ยี่' 'สิบ' 'เอ็ด'\n",
      " 'หาร' 'หนึ่ง' 'ร้อย' 'ยี่' 'สิบ' 'เอ็ด' 'หนึ่ง' 'ร้อย' 'ยี่' 'สิบ' 'เอ็ด'\n",
      " 'หนึ่ง' 'ร้อย' 'ยี่' 'สิบ' 'เอ็ด' 'หนึ่ง' 'ร้อย' 'ยี่' 'สิบ' 'เอ็ด'\n",
      " 'หนึ่ง' 'ร้อย' 'ยี่' 'สิบ' 'เอ็ด' 'หนึ่ง' 'ร้อย' 'ยี่' 'เศษ' 'เอ็ด'\n",
      " 'หนึ่ง' 'ร้อย' 'ยี่' 'สิบ' 'เอ็ด' 'หนึ่ง' 'ร้อย' 'ยี่' 'สิบ' 'เอ็ด'\n",
      " 'หนึ่ง' 'ร้อย' 'ยี่' 'สิบ' 'เอ็ด' 'หนึ่ง' 'ร้อย' 'ยี่' 'สิบ' 'เอ็ด'\n",
      " 'หนึ่ง' 'ร้อย' 'ยี่' 'สิบ' 'เอ็ด' 'หนึ่ง' 'ร้อย' 'ยี่' 'สิบ' 'เอ็ด'\n",
      " 'หนึ่ง' 'ร้อย' 'ยี่' 'สิบ' 'เอ็ด' 'หนึ่ง' 'หนึ่ง' 'หนึ่ง' 'หก' 'หนึ่ง'\n",
      " 'บวก' 'หนึ่ง' 'หาร' 'สอง' 'ร้อย' 'หาร' 'สอง' 'ร้อย' 'ร้อย' 'แซด' 'หาร'\n",
      " 'คอส' 'แซด' 'หาร' 'คอส' 'แซด' 'หาร' 'คอส' 'แซด' 'หาร' 'คอส' 'เอ็กซ์'\n",
      " 'ไซน์' 'แซด' 'หาร' 'สาม' 'แซด' 'หาร' 'ไซน์' 'แซด' 'หาร' 'ไซน์' 'แซด'\n",
      " 'หาร' 'สาม' 'เอ็กซ์' 'เศษ' 'แซด' 'ห้า' 'แซด' 'หก' 'วาย' 'แทน' 'วาย' 'แทน'\n",
      " 'ร้อย' 'เท่ากับ' 'วาย' 'เท่ากับ' 'สี่' 'สาม' 'ส่วน' 'ห้า' 'คอส' 'เศษ'\n",
      " 'สาม' 'ส่วน' 'ห้า' 'สอง' 'ยี่' 'สาม' 'ส่วน' 'ห้า' 'คอส' 'สี่' 'สาม'\n",
      " 'ส่วน' 'ห้า' 'ร้อย' 'สี่' 'สาม' 'ส่วน' 'ห้า' 'คอส' 'เศษ' 'สาม' 'ส่วน'\n",
      " 'ห้า' 'คูณ' 'เศษ' 'สาม' 'ส่วน' 'หาร' 'คอส' 'สาม' 'คอส' 'สาม' 'คอส' 'หก'\n",
      " 'คอส' 'หก' 'คอส' 'หก' 'ไซน์' 'ส่วน' 'ไซน์' 'เก้า' 'หาร' 'สาม' 'ไซน์'\n",
      " 'เก้า' 'ไซน์' 'เก้า' 'ไซน์' 'เก้า' 'สาม' 'เก้า' 'ไซน์' 'สาม' 'ไซน์'\n",
      " 'เก้า' 'ไซน์' 'ห้า' 'ไซน์' 'ห้า' 'สาม' 'ห้า' 'แปด' 'แปด' 'แทน' 'แปด'\n",
      " 'แทน' 'แปด' 'ห้า' 'แปด' 'ห้า' 'แปด' 'ห้า' 'เท่ากับ' 'ห้า' 'เท่ากับ' 'แทน'\n",
      " 'เท่ากับ' 'ห้า' 'เท่ากับ' 'ห้า']\n",
      "2nd rank ['สิบ' 'สี่' 'ห้า' 'สอง' 'ส่วน' 'ส่วน' 'หาร' 'สอง' 'แซด' 'ส่วน' 'สิบ' 'หก'\n",
      " 'ส่วน' 'สิบ' 'เจ็ด' 'ส่วน' 'แทน' 'ลบ' 'ส่วน' 'หนึ่ง' 'สอง' 'สิบ' 'ส่วน'\n",
      " 'สิบ' 'สอง' 'หนึ่ง' 'แซด' 'ส่วน' 'ลบ' 'สอง' 'เศษ' 'ส่วน' 'สิบ' 'สอง'\n",
      " 'แทน' 'เจ็ด' 'หนึ่ง' 'หก' 'บวก' 'แซด' 'สิบ' 'บวก' 'สอง' 'ส่วน' 'บวก' 'หก'\n",
      " 'สิบ' 'สิบ' 'เจ็ด' 'คูณ' 'เจ็ด' 'สิบ' 'สอง' 'ส่วน' 'บวก' 'หก' 'สิบ'\n",
      " 'ส่วน' 'เจ็ด' 'หนึ่ง' 'ส่วน' 'เอ็กซ์' 'หก' 'สิบ' 'ส่วน' 'สิบ' 'สอง' 'หาร'\n",
      " 'ส่วน' 'หก' 'สอง' 'ส่วน' 'แซด' 'หนึ่ง' 'ส่วน' 'เอ็กซ์' 'สอง' 'สอง' 'เจ็ด'\n",
      " 'ส่วน' 'หก' 'สิบ' 'แทน' 'เอ็กซ์' 'เอ็ด' 'ส่วน' 'ห้า' 'หก' 'ร้อย' 'ส่วน'\n",
      " 'สิบ' 'คูณ' 'สิบ' 'ส่วน' 'เจ็ด' 'สอง' 'คูณ' 'ส่วน' 'เจ็ด' 'ลบ' 'สี่'\n",
      " 'ส่วน' 'แซด' 'หก' 'ร้อย' 'ส่วน' 'เจ็ด' 'คูณ' 'สี่' 'ส่วน' 'เจ็ด' 'สอง'\n",
      " 'คูณ' 'ส่วน' 'สิบ' 'แซด' 'ส่วน' 'สี่' 'เจ็ด' 'สิบ' 'สอง' 'คูณ' 'เจ็ด'\n",
      " 'บวก' 'สอง' 'ห้า' 'หก' 'เศษ' 'ส่วน' 'ส่วน' 'แปด' 'ไซน์' 'สาม' 'ส่วน'\n",
      " 'ยี่' 'เจ็ด' 'หาร' 'ห้า' 'เจ็ด' 'ห้า' 'ศูนย์' 'เท่ากับ' 'ยกกำลัง' 'เศษ'\n",
      " 'บวก' 'บวก' 'เอ็กซ์' 'ส่วน' 'สิบ' 'หก' 'เอ็ด' 'ห้า' 'หาร' 'เศษ' 'ส่วน'\n",
      " 'ห้า' 'แซด' 'ส่วน' 'ยี่' 'ไซน์' 'สิบ' 'ส่วน' 'หก' 'เอ็ด' 'เศษ' 'เท่ากับ'\n",
      " 'หก' 'ไซน์' 'เศษ' 'ยี่' 'ส่วน' 'สาม' 'เศษ' 'หาร' 'ห้า' 'หาร' 'ส่วน' 'สี่'\n",
      " 'เอ็กซ์' 'สิบ' 'ห้า' 'ห้า' 'ยี่' 'เอ็ด' 'เศษ' 'ห้า' 'ห้า' 'แปด' 'เศษ'\n",
      " 'หาร' 'ส่วน' 'เท่ากับ' 'ห้า' 'เจ็ด' 'ส่วน' 'ยี่' 'สาม' 'เศษ' 'ส่วน' 'หก'\n",
      " 'สอง' 'เท่ากับ' 'แซด' 'ส่วน' 'เก้า' 'เศษ' 'ส่วน' 'เอ็ด' 'ห้า' 'ศูนย์'\n",
      " 'เจ็ด' 'เอ็กซ์' 'ส่วน' 'คูณ' 'สิบ' 'แซด' 'เจ็ด' 'คอส' 'หก' 'ศูนย์' 'ลบ'\n",
      " 'เอ็ด' 'เศษ' 'เท่ากับ' 'ห้า' 'ส่วน' 'ลบ' 'แทน' 'เจ็ด' 'คูณ' 'หก' 'สี่'\n",
      " 'เจ็ด' 'เอ็กซ์' 'สิบ' 'แซด' 'ลบ' 'ส่วน' 'คูณ' 'สอง' 'แซด' 'สอง' 'สี่'\n",
      " 'ยี่' 'สอง' 'สิบ' 'หาร' 'ยี่' 'สิบ' 'หาร' 'เอ็ด' 'ห้า' 'หาร' 'หก' 'ยี่'\n",
      " 'สาม' 'เจ็ด' 'ห้า' 'หนึ่ง' 'ยี่' 'สิบ' 'สิบ' 'หาร' 'แปด' 'หก' 'ยี่' 'เศษ'\n",
      " 'ร้อย' 'แปด' 'ยี่' 'ไซน์' 'เจ็ด' 'สาม' 'เศษ' 'ยกกำลัง' 'ห้า' 'เอ็ด' 'หก'\n",
      " 'เอ็ด' 'สาม' 'สี่' 'สี่' 'สิบ' 'เอ็กซ์' 'ห้า' 'เท่ากับ' 'เท่ากับ' 'ห้า'\n",
      " 'บวก' 'ยี่' 'ส่วน' 'แปด' 'เอ็ด' 'คูณ' 'แซด' 'เศษ' 'ยี่' 'ห้า' 'คูณ'\n",
      " 'เอ็ด' 'ส่วน' 'บวก' 'เจ็ด' 'วาย' 'สาม' 'แซด' 'สอง' 'เจ็ด' 'หก' 'ยี่'\n",
      " 'เอ็กซ์' 'สิบ' 'เท่ากับ' 'ห้า' 'สี่' 'คูณ' 'ศูนย์' 'เศษ' 'สาม' 'ยี่'\n",
      " 'สาม' 'ห้า' 'บวก' 'สี่' 'สี่' 'สิบ' 'ส่วน' 'หาร' 'ห้า' 'เอ็กซ์' 'เอ็ด'\n",
      " 'หก' 'ศูนย์' 'ห้า' 'ศูนย์' 'ห้า' 'ส่วน' 'สอง' 'คอส' 'สาม' 'หก' 'หนึ่ง'\n",
      " 'เท่ากับ' 'หาร' 'เจ็ด' 'ศูนย์' 'เศษ' 'ส่วน' 'คูณ' 'ศูนย์' 'หก' 'เอ็ด'\n",
      " 'ลบ' 'ไซน์' 'สิบ' 'หนึ่ง' 'สิบ' 'ห้า' 'ศูนย์' 'เจ็ด' 'ศูนย์' 'หก' 'ศูนย์'\n",
      " 'ห้า' 'ศูนย์' 'สอง' 'เอ็ด' 'สาม' 'ไซน์' 'หก' 'คูณ' 'ส่วน' 'เศษ' 'สาม'\n",
      " 'หก' 'สี่' 'สิบ' 'เอ็กซ์' 'ลบ' 'สี่' 'เจ็ด' 'แปด' 'เท่ากับ' 'ศูนย์' 'ยี่'\n",
      " 'เศษ' 'เศษ' 'ห้า' 'ยกกำลัง' 'หาร' 'เอ็ด' 'ศูนย์' 'สาม' 'หก' 'สี่' 'ส่วน'\n",
      " 'เอ็กซ์' 'หก' 'สี่' 'เศษ' 'เอ็กซ์' 'หาร' 'หก' 'ส่วน' 'แปด' 'ห้า' 'ศูนย์'\n",
      " 'คอส' 'เอ็ด' 'คูณ' 'หาร' 'เศษ' 'หก' 'เศษ' 'แปด' 'ห้า' 'แปด' 'ลบ' 'เศษ'\n",
      " 'หาร' 'ยกกำลัง' 'สี่' 'สี่' 'สิบ' 'เอ็กซ์' 'ห้า' 'ไซน์' 'สี่' 'สี่'\n",
      " 'ส่วน' 'เอ็กซ์' 'ห้า' 'ยกกำลัง' 'สี่' 'สี่' 'เศษ' 'เอ็กซ์' 'ไซน์' 'สี่'\n",
      " 'สี่' 'ส่วน' 'เอ็กซ์' 'ยกกำลัง' 'สี่' 'สี่' 'ส่วน' 'เอ็กซ์' 'แปด' 'สี่'\n",
      " 'สี่' 'ส่วน' 'เอ็กซ์' 'ไซน์' 'สี่' 'สี่' 'ส่วน' 'เอ็กซ์' 'ยกกำลัง' 'สี่'\n",
      " 'สี่' 'สิบ' 'เอ็กซ์' 'ไซน์' 'สี่' 'สี่' 'ส่วน' 'เอ็กซ์' 'ไซน์' 'สี่'\n",
      " 'สี่' 'เศษ' 'เอ็กซ์' 'ไซน์' 'สี่' 'สี่' 'ส่วน' 'เอ็กซ์' 'ไซน์' 'สี่'\n",
      " 'สี่' 'ส่วน' 'เอ็กซ์' 'ไซน์' 'สี่' 'สี่' 'ส่วน' 'เอ็กซ์' 'ไซน์' 'สี่'\n",
      " 'สี่' 'เศษ' 'แปด' 'ไซน์' 'สี่' 'สี่' 'ส่วน' 'แปด' 'ไซน์' 'ไซน์' 'ไซน์'\n",
      " 'บวก' 'ยกกำลัง' 'หก' 'ยกกำลัง' 'ห้า' 'ห้า' 'สี่' 'ห้า' 'ห้า' 'แปด' 'เก้า'\n",
      " 'สาม' 'ห้า' 'สี่' 'สาม' 'ห้า' 'สี่' 'สาม' 'ห้า' 'สอง' 'สาม' 'ห้า' 'สี่'\n",
      " 'เอ็ด' 'หาร' 'สาม' 'ห้า' 'หาร' 'สาม' 'ห้า' 'หาร' 'สาม' 'ห้า' 'หาร' 'สาม'\n",
      " 'ห้า' 'หาร' 'เอ็ด' 'เท่ากับ' 'สาม' 'หาร' 'สาม' 'แทน' 'เท่ากับ' 'หาร'\n",
      " 'เท่ากับ' 'หก' 'เท่ากับ' 'สอง' 'ศูนย์' 'ร้อย' 'ยี่' 'แซด' 'สิบ' 'หาร'\n",
      " 'ส่วน' 'สี่' 'หาร' 'สิบ' 'หาร' 'แซด' 'หก' 'หาร' 'สิบ' 'หาร' 'ร้อย' 'ยี่'\n",
      " 'หาร' 'ศูนย์' 'หาร' 'สี่' 'ส่วน' 'เท่ากับ' 'สิบ' 'หาร' 'ส่วน' 'สี่' 'หาร'\n",
      " 'สิบ' 'หาร' 'ส่วน' 'สี่' 'เท่ากับ' 'สิบ' 'ห้า' 'สิบ' 'หาร' 'สี่'\n",
      " 'เท่ากับ' 'สิบ' 'สอง' 'สอง' 'คูณ' 'สิบ' 'แซด' 'หาร' 'หนึ่ง' 'หาร' 'ห้า'\n",
      " 'ไซน์' 'เก้า' 'หาร' 'เท่ากับ' 'หาร' 'ห้า' 'หาร' 'ห้า' 'หาร' 'ห้า' 'หาร'\n",
      " 'เท่ากับ' 'หาร' 'ห้า' 'หาร' 'หาร' 'หาร' 'สาม' 'หาร' 'หาร' 'แทน' 'เอ็ด'\n",
      " 'ห้า' 'เอ็กซ์' 'ห้า' 'เอ็กซ์' 'หาร' 'เอ็ด' 'แทน' 'เอ็กซ์' 'แทน' 'ห้า'\n",
      " 'แทน' 'ห้า' 'ห้า' 'ห้า' 'หาร' 'ห้า' 'แทน']\n",
      "3rd rank ['แปด' 'เอ็ด' 'สิบ' 'บวก' 'ไซน์' 'เจ็ด' 'สอง' 'บวก' 'ร้อย' 'ศูนย์' 'แปด'\n",
      " 'สอง' 'ศูนย์' 'แปด' 'หนึ่ง' 'ศูนย์' 'สอง' 'หก' 'ลบ' 'เจ็ด' 'ห้า' 'ลบ'\n",
      " 'ศูนย์' 'เศษ' 'บวก' 'ยกกำลัง' 'ลบ' 'ศูนย์' 'ห้า' 'ห้า' 'ส่วน' 'สาม'\n",
      " 'เท่ากับ' 'ห้า' 'คอส' 'ลบ' 'คอส' 'ลบ' 'สอง' 'คูณ' 'เจ็ด' 'เท่ากับ' 'วาย'\n",
      " 'ศูนย์' 'ยี่' 'ลบ' 'สี่' 'ลบ' 'ส่วน' 'บวก' 'ส่วน' 'ส่วน' 'ห้า' 'ศูนย์'\n",
      " 'คูณ' 'ลบ' 'เจ็ด' 'หนึ่ง' 'เศษ' 'ลบ' 'ศูนย์' 'หก' 'คูณ' 'หนึ่ง' 'ศูนย์'\n",
      " 'เศษ' 'ห้า' 'แทน' 'สาม' 'ลบ' 'ห้า' 'สาม' 'สอง' 'แซด' 'ศูนย์' 'ยกกำลัง'\n",
      " 'ห้า' 'สาม' 'ส่วน' 'ยี่' 'ไซน์' 'ลบ' 'หาร' 'คูณ' 'ส่วน' 'สาม' 'สอง' 'ลบ'\n",
      " 'แซด' 'เจ็ด' 'เศษ' 'ลบ' 'สี่' 'หนึ่ง' 'ส่วน' 'ห้า' 'ยี่' 'เจ็ด' 'เศษ'\n",
      " 'คูณ' 'เอ็ด' 'สาม' 'ร้อย' 'สอง' 'แซด' 'เจ็ด' 'เอ็ด' 'หก' 'สิบ' 'ลบ' 'เศษ'\n",
      " 'ห้า' 'บวก' 'สาม' 'ลบ' 'ลบ' 'เอ็ด' 'เศษ' 'ส่วน' 'เศษ' 'ห้า' 'ยี่' 'ส่วน'\n",
      " 'คูณ' 'ห้า' 'ร้อย' 'สอง' 'เจ็ด' 'เจ็ด' 'เศษ' 'เอ็ด' 'หก' 'ห้า' 'หก'\n",
      " 'ส่วน' 'เศษ' 'วาย' 'แทน' 'สาม' 'คูณ' 'สิบ' 'สอง' 'บวก' 'คอส' 'ลบ' 'ยี่'\n",
      " 'เอ็ด' 'เศษ' 'แปด' 'ลบ' 'แปด' 'คอส' 'เศษ' 'เท่ากับ' 'ยี่' 'สาม' 'เท่ากับ'\n",
      " 'เศษ' 'หก' 'ยกกำลัง' 'สอง' 'สาม' 'ยี่' 'แปด' 'ไซน์' 'ห้า' 'ยี่' 'แปด'\n",
      " 'ไซน์' 'ร้อย' 'ยี่' 'ศูนย์' 'เท่ากับ' 'แทน' 'สาม' 'แทน' 'เศษ' 'เอ็กซ์'\n",
      " 'เอ็ด' 'สอง' 'เท่ากับ' 'สาม' 'ส่วน' 'แปด' 'เท่ากับ' 'ลบ' 'คอส' 'เอ็ด'\n",
      " 'คอส' 'เท่ากับ' 'ไซน์' 'หาร' 'สาม' 'เอ็กซ์' 'เศษ' 'ส่วน' 'แซด' 'เท่ากับ'\n",
      " 'ยี่' 'บวก' 'ศูนย์' 'เศษ' 'เท่ากับ' 'บวก' 'ห้า' 'เจ็ด' 'ลบ' 'แปด' 'สาม'\n",
      " 'สี่' 'สิบ' 'หก' 'เจ็ด' 'บวก' 'สอง' 'ศูนย์' 'สิบ' 'สี่' 'สอง' 'สาม' 'หก'\n",
      " 'แปด' 'เท่ากับ' 'ยกกำลัง' 'สาม' 'เจ็ด' 'สอง' 'หาร' 'ส่วน' 'บวก' 'สี่'\n",
      " 'ร้อย' 'หนึ่ง' 'แปด' 'สอง' 'เก้า' 'สอง' 'เศษ' 'แซด' 'สิบ' 'หาร' 'หก'\n",
      " 'แทน' 'ร้อย' 'สิบ' 'เอ็ด' 'สาม' 'ร้อย' 'เจ็ด' 'แทน' 'แปด' 'สอง' 'เท่ากับ'\n",
      " 'ไซน์' 'ส่วน' 'ศูนย์' 'เศษ' 'สาม' 'คูณ' 'ส่วน' 'ส่วน' 'สอง' 'ไซน์' 'เอ็ด'\n",
      " 'ลบ' 'ร้อย' 'คอส' 'สาม' 'เจ็ด' 'ร้อย' 'ยกกำลัง' 'เศษ' 'เจ็ด' 'เท่ากับ'\n",
      " 'หาร' 'สาม' 'แปด' 'คูณ' 'เจ็ด' 'ศูนย์' 'ไซน์' 'ร้อย' 'สอง' 'เอ็ด' 'สาม'\n",
      " 'วาย' 'เศษ' 'ส่วน' 'ยกกำลัง' 'ร้อย' 'เศษ' 'เอ็กซ์' 'แปด' 'วาย' 'สอง'\n",
      " 'เท่ากับ' 'ส่วน' 'สาม' 'ลบ' 'วาย' 'สิบ' 'ห้า' 'เอ็ด' 'เศษ' 'ยกกำลัง'\n",
      " 'คูณ' 'สิบ' 'เอ็ด' 'ยี่' 'ร้อย' 'เจ็ด' 'ศูนย์' 'ห้า' 'สาม' 'ร้อย' 'แซด'\n",
      " 'สิบ' 'ส่วน' 'เท่ากับ' 'วาย' 'เจ็ด' 'สาม' 'สิบ' 'เศษ' 'ร้อย' 'ศูนย์'\n",
      " 'ศูนย์' 'แทน' 'เท่ากับ' 'เอ็ด' 'แปด' 'ไซน์' 'สิบ' 'สอง' 'สิบ' 'สาม' 'บวก'\n",
      " 'สาม' 'เศษ' 'แซด' 'ไซน์' 'เจ็ด' 'เศษ' 'แทน' 'สอง' 'สิบ' 'เท่ากับ' 'ยี่'\n",
      " 'ห้า' 'บวก' 'ลบ' 'แปด' 'หก' 'หาร' 'สอง' 'ยี่' 'สอง' 'สาม' 'สิบ' 'แปด'\n",
      " 'สิบ' 'ไซน์' 'สอง' 'สาม' 'บวก' 'คอส' 'แปด' 'แซด' 'สอง' 'ลบ' 'สอง' 'สอง'\n",
      " 'เท่ากับ' 'สอง' 'คูณ' 'ร้อย' 'เจ็ด' 'แปด' 'เท่ากับ' 'ร้อย' 'สี่' 'เอ็กซ์'\n",
      " 'สอง' 'สอง' 'คอส' 'สอง' 'เท่ากับ' 'บวก' 'คูณ' 'สาม' 'แปด' 'สิบ' 'ส่วน'\n",
      " 'ลบ' 'ร้อย' 'สี่' 'สิบ' 'หนึ่ง' 'ร้อย' 'ส่วน' 'แปด' 'สาม' 'ไซน์' 'เศษ'\n",
      " 'เอ็กซ์' 'สาม' 'สิบ' 'สอง' 'แปด' 'ลบ' 'ห้า' 'หาร' 'สอง' 'หาร' 'เอ็ด'\n",
      " 'สาม' 'เอ็ด' 'เท่ากับ' 'สอง' 'แทน' 'ไซน์' 'ส่วน' 'หก' 'แปด' 'แปด' 'แทน'\n",
      " 'ยกกำลัง' 'ส่วน' 'ร้อย' 'แซด' 'แปด' 'เอ็ด' 'ไซน์' 'ส่วน' 'หก' 'ส่วน'\n",
      " 'แปด' 'ยกกำลัง' 'ส่วน' 'หก' 'เศษ' 'แปด' 'ไซน์' 'ส่วน' 'ร้อย' 'เศษ' 'แปด'\n",
      " 'หก' 'ส่วน' 'หก' 'เศษ' 'แปด' 'ยกกำลัง' 'เก้า' 'ร้อย' 'เศษ' 'แปด' 'ไซน์'\n",
      " 'ส่วน' 'หก' 'เจ็ด' 'แปด' 'ยกกำลัง' 'ส่วน' 'หก' 'เศษ' 'แปด' 'ยกกำลัง'\n",
      " 'ส่วน' 'หก' 'เอ็ด' 'แปด' 'เศษ' 'ส่วน' 'หก' 'เศษ' 'แปด' 'เก้า' 'เก้า' 'หก'\n",
      " 'เจ็ด' 'แปด' 'เศษ' 'ส่วน' 'ร้อย' 'เศษ' 'แปด' 'เศษ' 'ส่วน' 'หก' 'ส่วน'\n",
      " 'เอ็กซ์' 'ยกกำลัง' 'ส่วน' 'หก' 'ศูนย์' 'สิบ' 'ยกกำลัง' 'เจ็ด' 'ยกกำลัง'\n",
      " 'หนึ่ง' 'ไซน์' 'ส่วน' 'ไซน์' 'สาม' 'สาม' 'ส่วน' 'วาย' 'สาม' 'เอ็ด' 'คอส'\n",
      " 'เจ็ด' 'สาม' 'สอง' 'ศูนย์' 'แทน' 'สิบ' 'เจ็ด' 'สาม' 'สี่' 'เจ็ด' 'ไซน์'\n",
      " 'เอ็กซ์' 'แปด' 'สอง' 'เจ็ด' 'สาม' 'ไซน์' 'เจ็ด' 'แทน' 'สอง' 'เจ็ด' 'แทน'\n",
      " 'คอส' 'เจ็ด' 'สาม' 'ไซน์' 'แปด' 'หาร' 'เจ็ด' 'เอ็ด' 'สอง' 'เอ็ด'\n",
      " 'ยกกำลัง' 'หก' 'สาม' 'ยี่' 'ห้า' 'ห้า' 'ไซน์' 'คูณ' 'ส่วน' 'หาร' 'สอง'\n",
      " 'แทน' 'สี่' 'ส่วน' 'เท่ากับ' 'ศูนย์' 'แทน' 'เท่ากับ' 'ไซน์' 'เท่ากับ'\n",
      " 'ศูนย์' 'แทน' 'สี่' 'ส่วน' 'เท่ากับ' 'สิบ' 'แทน' 'เอ็กซ์' 'ยี่' 'ห้า'\n",
      " 'สอง' 'แทน' 'สี่' 'ส่วน' 'ห้า' 'สอง' 'สาม' 'สอง' 'ส่วน' 'ห้า' 'ศูนย์'\n",
      " 'คอส' 'สี่' 'เท่ากับ' 'เอ็กซ์' 'ห้า' 'สอง' 'ลบ' 'สิบ' 'ลบ' 'สี่' 'บวก'\n",
      " 'สาม' 'คอส' 'คอส' 'บวก' 'สาม' 'เท่ากับ' 'สาม' 'ห้า' 'คอส' 'ร้อย' 'คอส'\n",
      " 'เอ็กซ์' 'ไซน์' 'บวก' 'คอส' 'ห้า' 'สาม' 'เท่ากับ' 'คอส' 'แทน' 'คอส' 'หาร'\n",
      " 'ไซน์' 'สาม' 'หก' 'เอ็กซ์' 'หาร' 'เอ็ด' 'แปด' 'คูณ' 'แทน' 'คูณ' 'หาร'\n",
      " 'คูณ' 'หาร' 'สาม' 'หาร' 'สาม' 'หาร' 'สาม' 'แทน' 'สาม' 'หาร']\n"
     ]
    }
   ],
   "source": [
    "finalCon = []\n",
    "final_2nd = []\n",
    "final_3rd = []\n",
    "for i in range(len(sampleCon)):\n",
    "    #print(\"Sample\",i+1)\n",
    "    rank = []\n",
    "    array = sampleCon[i]\n",
    "    worddict = words_list\n",
    "    for i in range(len(sampleCon[i])):\n",
    "        max = np.argmax(array)\n",
    "        result = worddict[int(max)]\n",
    "        array = np.delete(array,int(max))\n",
    "        worddict = np.delete(worddict,int(max))\n",
    "        rank = np.append(rank,result)\n",
    "        #print(max)\n",
    "        #print(\"Candidate\",i+1)\n",
    "        #print(result)\n",
    "    #print(rank)\n",
    "        #print(array)\n",
    "    finalCon = np.append(finalCon,rank[0])\n",
    "    final_2nd = np.append(final_2nd,rank[1])\n",
    "    final_3rd = np.append(final_3rd,rank[2])\n",
    "\n",
    "print(\"Predict\",finalCon)\n",
    "print(\"2nd rank\",final_2nd)\n",
    "print(\"3rd rank\",final_3rd)"
   ]
  },
  {
   "cell_type": "code",
   "execution_count": null,
   "id": "7913ca40",
   "metadata": {
    "scrolled": false
   },
   "outputs": [],
   "source": [
    "final = []\n",
    "for i in range(num_samples):\n",
    "    result = words_list[int(sampletest[i])]\n",
    "    #print(result)\n",
    "    final = np.append(final,result)\n",
    "    \n",
    "i=0\n",
    "sen= str(final[0])\n",
    "while i<=num_samples-2:\n",
    "    sen = sen+str(final[i+1])\n",
    "    i+=1\n",
    "print(sen)"
   ]
  },
  {
   "cell_type": "code",
   "execution_count": 476,
   "id": "2d288880",
   "metadata": {},
   "outputs": [
    {
     "name": "stdout",
     "output_type": "stream",
     "text": [
      "Test set accuracy: 77.27%\n"
     ]
    }
   ],
   "source": [
    "#test only 1st rank\n",
    "y_predEq = finalCon\n",
    "y_trueEq = label_n\n",
    "\n",
    "test_accEq = sum(y_predEq == y_trueEq) / len(y_trueEq)\n",
    "print(f'Test set accuracy: {test_accEq:.02%}')"
   ]
  },
  {
   "cell_type": "code",
   "execution_count": 477,
   "id": "f5a2aa43",
   "metadata": {},
   "outputs": [
    {
     "name": "stdout",
     "output_type": "stream",
     "text": [
      "Test set accuracy: 86%\n"
     ]
    }
   ],
   "source": [
    "#test 1st+2nd rank\n",
    "test_accEq2 = (sum(y_predEq == y_trueEq)+ sum(final_2nd == y_trueEq))/ len(y_trueEq)\n",
    "print(f'Test set accuracy: {test_accEq2:.0%}')"
   ]
  },
  {
   "cell_type": "code",
   "execution_count": 478,
   "id": "204faa26",
   "metadata": {},
   "outputs": [
    {
     "name": "stdout",
     "output_type": "stream",
     "text": [
      "Test set accuracy: 89%\n"
     ]
    }
   ],
   "source": [
    "#test 1st+2nd+3rd rank\n",
    "test_accEq3 = (sum(y_predEq == y_trueEq) + sum(final_2nd == y_trueEq) + sum(final_3rd == y_trueEq))/ len(y_trueEq)\n",
    "print(f'Test set accuracy: {test_accEq3:.0%}')"
   ]
  },
  {
   "cell_type": "code",
   "execution_count": null,
   "id": "294402e4",
   "metadata": {},
   "outputs": [],
   "source": []
  }
 ],
 "metadata": {
  "kernelspec": {
   "display_name": "Python 3 (ipykernel)",
   "language": "python",
   "name": "python3"
  },
  "language_info": {
   "codemirror_mode": {
    "name": "ipython",
    "version": 3
   },
   "file_extension": ".py",
   "mimetype": "text/x-python",
   "name": "python",
   "nbconvert_exporter": "python",
   "pygments_lexer": "ipython3",
   "version": "3.8.5"
  }
 },
 "nbformat": 4,
 "nbformat_minor": 5
}
